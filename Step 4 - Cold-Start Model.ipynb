{
 "cells": [
  {
   "cell_type": "markdown",
   "metadata": {},
   "source": [
    "# Data Mining Final Project"
   ]
  },
  {
   "cell_type": "markdown",
   "metadata": {},
   "source": [
    "Begin by loading the prepared data."
   ]
  },
  {
   "cell_type": "code",
   "execution_count": 1,
   "metadata": {},
   "outputs": [],
   "source": [
    "import pandas as pd\n",
    "import numpy as np\n",
    "import matplotlib.pyplot as plt\n",
    "\n",
    "# Reading ratings file\n",
    "ratings = pd.read_csv('ratings_prepared.csv', encoding='latin-1', usecols=['user_id', 'movie_id', 'rating'])\n",
    "\n",
    "# Reading users file\n",
    "users = pd.read_csv('users_prepared.csv', encoding='latin-1', usecols = ['user_id', 'is_F', 'is_M', 'age_18_24', 'age_25_34', 'age_35_44',\n",
    "       'age_45_49', 'age_50_55', 'age_56plus', 'age_u18', 'job_artist',\n",
    "       'job_clerical', 'job_college_student', 'job_cust_service',\n",
    "       'job_engineer', 'job_exec', 'job_farmer', 'job_homemaker',\n",
    "       'job_k12student', 'job_lawyer', 'job_medical', 'job_other',\n",
    "       'job_programmer', 'job_retired', 'job_sales', 'job_scientist',\n",
    "       'job_self_emp', 'job_teacher', 'job_trade', 'job_unemployed',\n",
    "       'job_writer', 'zip_0', 'zip_1', 'zip_2', 'zip_3', 'zip_4', 'zip_5',\n",
    "       'zip_6', 'zip_7', 'zip_8', 'zip_9'])\n",
    "\n",
    "# Reading movies file\n",
    "movies = pd.read_csv('movies_prepared.csv', encoding='latin-1', usecols = ['movie_id','title','is_drama','is_comedy','is_action','is_thriller','is_romance','is_horror','is_adventure','is_scifi','is_childrens','is_crime','is_war','is_documentary','is_musical','is_mystery','is_animation','is_fantasy','is_western','is_filmnoir','year'])"
   ]
  },
  {
   "cell_type": "markdown",
   "metadata": {},
   "source": [
    "## Data Review\n",
    "\n",
    "As a refresher, review the formatting of the data.\n",
    "\n",
    "### Ratings DataFrame"
   ]
  },
  {
   "cell_type": "code",
   "execution_count": 2,
   "metadata": {},
   "outputs": [
    {
     "name": "stdout",
     "output_type": "stream",
     "text": [
      "<class 'pandas.core.frame.DataFrame'>\n",
      "RangeIndex: 991384 entries, 0 to 991383\n",
      "Data columns (total 3 columns):\n",
      "user_id     991384 non-null int64\n",
      "movie_id    991384 non-null int64\n",
      "rating      991384 non-null int64\n",
      "dtypes: int64(3)\n",
      "memory usage: 22.7 MB\n"
     ]
    }
   ],
   "source": [
    "#review the formatting of ratings DataFrame\n",
    "ratings.info()"
   ]
  },
  {
   "cell_type": "code",
   "execution_count": 3,
   "metadata": {},
   "outputs": [
    {
     "data": {
      "text/plain": [
       "6040"
      ]
     },
     "execution_count": 3,
     "metadata": {},
     "output_type": "execute_result"
    }
   ],
   "source": [
    "#confirming correct user count of 6040\n",
    "ratings.user_id.nunique()"
   ]
  },
  {
   "cell_type": "code",
   "execution_count": 4,
   "metadata": {},
   "outputs": [
    {
     "data": {
      "text/html": [
       "<div>\n",
       "<style scoped>\n",
       "    .dataframe tbody tr th:only-of-type {\n",
       "        vertical-align: middle;\n",
       "    }\n",
       "\n",
       "    .dataframe tbody tr th {\n",
       "        vertical-align: top;\n",
       "    }\n",
       "\n",
       "    .dataframe thead th {\n",
       "        text-align: right;\n",
       "    }\n",
       "</style>\n",
       "<table border=\"1\" class=\"dataframe\">\n",
       "  <thead>\n",
       "    <tr style=\"text-align: right;\">\n",
       "      <th></th>\n",
       "      <th>user_id</th>\n",
       "      <th>movie_id</th>\n",
       "      <th>rating</th>\n",
       "    </tr>\n",
       "  </thead>\n",
       "  <tbody>\n",
       "    <tr>\n",
       "      <th>0</th>\n",
       "      <td>0</td>\n",
       "      <td>1176</td>\n",
       "      <td>5</td>\n",
       "    </tr>\n",
       "    <tr>\n",
       "      <th>1</th>\n",
       "      <td>0</td>\n",
       "      <td>655</td>\n",
       "      <td>3</td>\n",
       "    </tr>\n",
       "    <tr>\n",
       "      <th>2</th>\n",
       "      <td>0</td>\n",
       "      <td>902</td>\n",
       "      <td>3</td>\n",
       "    </tr>\n",
       "    <tr>\n",
       "      <th>3</th>\n",
       "      <td>0</td>\n",
       "      <td>3339</td>\n",
       "      <td>4</td>\n",
       "    </tr>\n",
       "    <tr>\n",
       "      <th>4</th>\n",
       "      <td>0</td>\n",
       "      <td>2286</td>\n",
       "      <td>5</td>\n",
       "    </tr>\n",
       "  </tbody>\n",
       "</table>\n",
       "</div>"
      ],
      "text/plain": [
       "   user_id  movie_id  rating\n",
       "0        0      1176       5\n",
       "1        0       655       3\n",
       "2        0       902       3\n",
       "3        0      3339       4\n",
       "4        0      2286       5"
      ]
     },
     "execution_count": 4,
     "metadata": {},
     "output_type": "execute_result"
    }
   ],
   "source": [
    "ratings.head()"
   ]
  },
  {
   "cell_type": "code",
   "execution_count": 5,
   "metadata": {},
   "outputs": [
    {
     "data": {
      "text/plain": [
       "<matplotlib.axes._subplots.AxesSubplot at 0x14bcf0f8748>"
      ]
     },
     "execution_count": 5,
     "metadata": {},
     "output_type": "execute_result"
    },
    {
     "data": {
      "image/png": "[encoded data removed]",
      "text/plain": [
       "<Figure size 432x288 with 1 Axes>"
      ]
     },
     "metadata": {
      "needs_background": "light"
     },
     "output_type": "display_data"
    }
   ],
   "source": [
    "#review the distribution of the ratings within the set\n",
    "import seaborn as sns\n",
    "\n",
    "sns.distplot(ratings.rating)"
   ]
  },
  {
   "cell_type": "markdown",
   "metadata": {},
   "source": [
    "### Users Dataset"
   ]
  },
  {
   "cell_type": "code",
   "execution_count": 7,
   "metadata": {},
   "outputs": [
    {
     "name": "stdout",
     "output_type": "stream",
     "text": [
      "<class 'pandas.core.frame.DataFrame'>\n",
      "RangeIndex: 6040 entries, 0 to 6039\n",
      "Data columns (total 41 columns):\n",
      "user_id                6040 non-null int64\n",
      "is_F                   6040 non-null int64\n",
      "is_M                   6040 non-null int64\n",
      "zip_0                  6040 non-null int64\n",
      "zip_1                  6040 non-null int64\n",
      "zip_2                  6040 non-null int64\n",
      "zip_3                  6040 non-null int64\n",
      "zip_4                  6040 non-null int64\n",
      "zip_5                  6040 non-null int64\n",
      "zip_6                  6040 non-null int64\n",
      "zip_7                  6040 non-null int64\n",
      "zip_8                  6040 non-null int64\n",
      "zip_9                  6040 non-null int64\n",
      "age_18_24              6040 non-null int64\n",
      "age_25_34              6040 non-null int64\n",
      "age_35_44              6040 non-null int64\n",
      "age_45_49              6040 non-null int64\n",
      "age_50_55              6040 non-null int64\n",
      "age_56plus             6040 non-null int64\n",
      "age_u18                6040 non-null int64\n",
      "job_artist             6040 non-null int64\n",
      "job_clerical           6040 non-null int64\n",
      "job_college_student    6040 non-null int64\n",
      "job_cust_service       6040 non-null int64\n",
      "job_engineer           6040 non-null int64\n",
      "job_exec               6040 non-null int64\n",
      "job_farmer             6040 non-null int64\n",
      "job_homemaker          6040 non-null int64\n",
      "job_k12student         6040 non-null int64\n",
      "job_lawyer             6040 non-null int64\n",
      "job_medical            6040 non-null int64\n",
      "job_other              6040 non-null int64\n",
      "job_programmer         6040 non-null int64\n",
      "job_retired            6040 non-null int64\n",
      "job_sales              6040 non-null int64\n",
      "job_scientist          6040 non-null int64\n",
      "job_self_emp           6040 non-null int64\n",
      "job_teacher            6040 non-null int64\n",
      "job_trade              6040 non-null int64\n",
      "job_unemployed         6040 non-null int64\n",
      "job_writer             6040 non-null int64\n",
      "dtypes: int64(41)\n",
      "memory usage: 1.9 MB\n"
     ]
    }
   ],
   "source": [
    "#print data formatting\n",
    "users.info()"
   ]
  },
  {
   "cell_type": "code",
   "execution_count": 8,
   "metadata": {},
   "outputs": [
    {
     "data": {
      "text/html": [
       "<div>\n",
       "<style scoped>\n",
       "    .dataframe tbody tr th:only-of-type {\n",
       "        vertical-align: middle;\n",
       "    }\n",
       "\n",
       "    .dataframe tbody tr th {\n",
       "        vertical-align: top;\n",
       "    }\n",
       "\n",
       "    .dataframe thead th {\n",
       "        text-align: right;\n",
       "    }\n",
       "</style>\n",
       "<table border=\"1\" class=\"dataframe\">\n",
       "  <thead>\n",
       "    <tr style=\"text-align: right;\">\n",
       "      <th></th>\n",
       "      <th>user_id</th>\n",
       "      <th>is_F</th>\n",
       "      <th>is_M</th>\n",
       "      <th>zip_0</th>\n",
       "      <th>zip_1</th>\n",
       "      <th>zip_2</th>\n",
       "      <th>zip_3</th>\n",
       "      <th>zip_4</th>\n",
       "      <th>zip_5</th>\n",
       "      <th>zip_6</th>\n",
       "      <th>...</th>\n",
       "      <th>job_other</th>\n",
       "      <th>job_programmer</th>\n",
       "      <th>job_retired</th>\n",
       "      <th>job_sales</th>\n",
       "      <th>job_scientist</th>\n",
       "      <th>job_self_emp</th>\n",
       "      <th>job_teacher</th>\n",
       "      <th>job_trade</th>\n",
       "      <th>job_unemployed</th>\n",
       "      <th>job_writer</th>\n",
       "    </tr>\n",
       "  </thead>\n",
       "  <tbody>\n",
       "    <tr>\n",
       "      <th>0</th>\n",
       "      <td>1</td>\n",
       "      <td>1</td>\n",
       "      <td>0</td>\n",
       "      <td>0</td>\n",
       "      <td>0</td>\n",
       "      <td>0</td>\n",
       "      <td>0</td>\n",
       "      <td>1</td>\n",
       "      <td>0</td>\n",
       "      <td>0</td>\n",
       "      <td>...</td>\n",
       "      <td>0</td>\n",
       "      <td>0</td>\n",
       "      <td>0</td>\n",
       "      <td>0</td>\n",
       "      <td>0</td>\n",
       "      <td>0</td>\n",
       "      <td>0</td>\n",
       "      <td>0</td>\n",
       "      <td>0</td>\n",
       "      <td>0</td>\n",
       "    </tr>\n",
       "    <tr>\n",
       "      <th>1</th>\n",
       "      <td>2</td>\n",
       "      <td>0</td>\n",
       "      <td>1</td>\n",
       "      <td>0</td>\n",
       "      <td>0</td>\n",
       "      <td>0</td>\n",
       "      <td>0</td>\n",
       "      <td>0</td>\n",
       "      <td>0</td>\n",
       "      <td>0</td>\n",
       "      <td>...</td>\n",
       "      <td>0</td>\n",
       "      <td>0</td>\n",
       "      <td>0</td>\n",
       "      <td>0</td>\n",
       "      <td>0</td>\n",
       "      <td>1</td>\n",
       "      <td>0</td>\n",
       "      <td>0</td>\n",
       "      <td>0</td>\n",
       "      <td>0</td>\n",
       "    </tr>\n",
       "  </tbody>\n",
       "</table>\n",
       "<p>2 rows × 41 columns</p>\n",
       "</div>"
      ],
      "text/plain": [
       "   user_id  is_F  is_M  zip_0  zip_1  zip_2  zip_3  zip_4  zip_5  zip_6  ...  \\\n",
       "0        1     1     0      0      0      0      0      1      0      0  ...   \n",
       "1        2     0     1      0      0      0      0      0      0      0  ...   \n",
       "\n",
       "   job_other  job_programmer  job_retired  job_sales  job_scientist  \\\n",
       "0          0               0            0          0              0   \n",
       "1          0               0            0          0              0   \n",
       "\n",
       "   job_self_emp  job_teacher  job_trade  job_unemployed  job_writer  \n",
       "0             0            0          0               0           0  \n",
       "1             1            0          0               0           0  \n",
       "\n",
       "[2 rows x 41 columns]"
      ]
     },
     "execution_count": 8,
     "metadata": {},
     "output_type": "execute_result"
    }
   ],
   "source": [
    "#review data readout\n",
    "users.head(2)"
   ]
  },
  {
   "cell_type": "markdown",
   "metadata": {},
   "source": [
    "Since the variables are indicators, we can take the mean of a given column to determine the overall percentage of users within a given categorization. We seee that the group is heavily weighted towards men and that some age groups are under-represented, but there is a reasonable enough distribution for our needs."
   ]
  },
  {
   "cell_type": "code",
   "execution_count": 9,
   "metadata": {},
   "outputs": [
    {
     "data": {
      "text/plain": [
       "user_id                3020.500000\n",
       "is_F                      0.282947\n",
       "is_M                      0.717053\n",
       "zip_0                     0.109603\n",
       "zip_1                     0.109603\n",
       "zip_2                     0.073013\n",
       "zip_3                     0.063907\n",
       "zip_4                     0.100497\n",
       "zip_5                     0.109106\n",
       "zip_6                     0.071192\n",
       "zip_7                     0.069371\n",
       "zip_8                     0.050662\n",
       "zip_9                     0.243046\n",
       "age_18_24                 0.182616\n",
       "age_25_34                 0.347020\n",
       "age_35_44                 0.197517\n",
       "age_45_49                 0.091060\n",
       "age_50_55                 0.082119\n",
       "age_56plus                0.062914\n",
       "age_u18                   0.036755\n",
       "job_artist                0.044205\n",
       "job_clerical              0.028642\n",
       "job_college_student       0.125662\n",
       "job_cust_service          0.018543\n",
       "job_engineer              0.083113\n",
       "job_exec                  0.112417\n",
       "job_farmer                0.002815\n",
       "job_homemaker             0.015232\n",
       "job_k12student            0.032285\n",
       "job_lawyer                0.021358\n",
       "job_medical               0.039073\n",
       "job_other                 0.117715\n",
       "job_programmer            0.064238\n",
       "job_retired               0.023510\n",
       "job_sales                 0.050000\n",
       "job_scientist             0.023841\n",
       "job_self_emp              0.039901\n",
       "job_teacher               0.087417\n",
       "job_trade                 0.011589\n",
       "job_unemployed            0.011921\n",
       "job_writer                0.046523\n",
       "dtype: float64"
      ]
     },
     "execution_count": 9,
     "metadata": {},
     "output_type": "execute_result"
    }
   ],
   "source": [
    "users.mean()"
   ]
  },
  {
   "cell_type": "markdown",
   "metadata": {},
   "source": [
    "### Movies Dataset"
   ]
  },
  {
   "cell_type": "code",
   "execution_count": 10,
   "metadata": {},
   "outputs": [
    {
     "name": "stdout",
     "output_type": "stream",
     "text": [
      "<class 'pandas.core.frame.DataFrame'>\n",
      "RangeIndex: 3883 entries, 0 to 3882\n",
      "Data columns (total 21 columns):\n",
      "movie_id          3883 non-null int64\n",
      "title             3883 non-null object\n",
      "is_drama          3883 non-null int64\n",
      "is_comedy         3883 non-null int64\n",
      "is_action         3883 non-null int64\n",
      "is_thriller       3883 non-null int64\n",
      "is_romance        3883 non-null int64\n",
      "is_horror         3883 non-null int64\n",
      "is_adventure      3883 non-null int64\n",
      "is_scifi          3883 non-null int64\n",
      "is_childrens      3883 non-null int64\n",
      "is_crime          3883 non-null int64\n",
      "is_war            3883 non-null int64\n",
      "is_documentary    3883 non-null int64\n",
      "is_musical        3883 non-null int64\n",
      "is_mystery        3883 non-null int64\n",
      "is_animation      3883 non-null int64\n",
      "is_fantasy        3883 non-null int64\n",
      "is_western        3883 non-null int64\n",
      "is_filmnoir       3883 non-null int64\n",
      "year              3883 non-null int64\n",
      "dtypes: int64(20), object(1)\n",
      "memory usage: 637.1+ KB\n"
     ]
    }
   ],
   "source": [
    "#review DF info\n",
    "movies.info()"
   ]
  },
  {
   "cell_type": "code",
   "execution_count": 11,
   "metadata": {
    "scrolled": true
   },
   "outputs": [
    {
     "data": {
      "text/html": [
       "<div>\n",
       "<style scoped>\n",
       "    .dataframe tbody tr th:only-of-type {\n",
       "        vertical-align: middle;\n",
       "    }\n",
       "\n",
       "    .dataframe tbody tr th {\n",
       "        vertical-align: top;\n",
       "    }\n",
       "\n",
       "    .dataframe thead th {\n",
       "        text-align: right;\n",
       "    }\n",
       "</style>\n",
       "<table border=\"1\" class=\"dataframe\">\n",
       "  <thead>\n",
       "    <tr style=\"text-align: right;\">\n",
       "      <th></th>\n",
       "      <th>movie_id</th>\n",
       "      <th>title</th>\n",
       "      <th>is_drama</th>\n",
       "      <th>is_comedy</th>\n",
       "      <th>is_action</th>\n",
       "      <th>is_thriller</th>\n",
       "      <th>is_romance</th>\n",
       "      <th>is_horror</th>\n",
       "      <th>is_adventure</th>\n",
       "      <th>is_scifi</th>\n",
       "      <th>...</th>\n",
       "      <th>is_crime</th>\n",
       "      <th>is_war</th>\n",
       "      <th>is_documentary</th>\n",
       "      <th>is_musical</th>\n",
       "      <th>is_mystery</th>\n",
       "      <th>is_animation</th>\n",
       "      <th>is_fantasy</th>\n",
       "      <th>is_western</th>\n",
       "      <th>is_filmnoir</th>\n",
       "      <th>year</th>\n",
       "    </tr>\n",
       "  </thead>\n",
       "  <tbody>\n",
       "    <tr>\n",
       "      <th>0</th>\n",
       "      <td>0</td>\n",
       "      <td>Toy Story</td>\n",
       "      <td>0</td>\n",
       "      <td>1</td>\n",
       "      <td>0</td>\n",
       "      <td>0</td>\n",
       "      <td>0</td>\n",
       "      <td>0</td>\n",
       "      <td>0</td>\n",
       "      <td>0</td>\n",
       "      <td>...</td>\n",
       "      <td>0</td>\n",
       "      <td>0</td>\n",
       "      <td>0</td>\n",
       "      <td>0</td>\n",
       "      <td>0</td>\n",
       "      <td>1</td>\n",
       "      <td>0</td>\n",
       "      <td>0</td>\n",
       "      <td>0</td>\n",
       "      <td>1995</td>\n",
       "    </tr>\n",
       "    <tr>\n",
       "      <th>1</th>\n",
       "      <td>1</td>\n",
       "      <td>Jumanji</td>\n",
       "      <td>0</td>\n",
       "      <td>0</td>\n",
       "      <td>0</td>\n",
       "      <td>0</td>\n",
       "      <td>0</td>\n",
       "      <td>0</td>\n",
       "      <td>1</td>\n",
       "      <td>0</td>\n",
       "      <td>...</td>\n",
       "      <td>0</td>\n",
       "      <td>0</td>\n",
       "      <td>0</td>\n",
       "      <td>0</td>\n",
       "      <td>0</td>\n",
       "      <td>0</td>\n",
       "      <td>1</td>\n",
       "      <td>0</td>\n",
       "      <td>0</td>\n",
       "      <td>1995</td>\n",
       "    </tr>\n",
       "    <tr>\n",
       "      <th>2</th>\n",
       "      <td>2</td>\n",
       "      <td>Grumpier Old Men</td>\n",
       "      <td>0</td>\n",
       "      <td>1</td>\n",
       "      <td>0</td>\n",
       "      <td>0</td>\n",
       "      <td>1</td>\n",
       "      <td>0</td>\n",
       "      <td>0</td>\n",
       "      <td>0</td>\n",
       "      <td>...</td>\n",
       "      <td>0</td>\n",
       "      <td>0</td>\n",
       "      <td>0</td>\n",
       "      <td>0</td>\n",
       "      <td>0</td>\n",
       "      <td>0</td>\n",
       "      <td>0</td>\n",
       "      <td>0</td>\n",
       "      <td>0</td>\n",
       "      <td>1995</td>\n",
       "    </tr>\n",
       "    <tr>\n",
       "      <th>3</th>\n",
       "      <td>3</td>\n",
       "      <td>Waiting to Exhale</td>\n",
       "      <td>1</td>\n",
       "      <td>1</td>\n",
       "      <td>0</td>\n",
       "      <td>0</td>\n",
       "      <td>0</td>\n",
       "      <td>0</td>\n",
       "      <td>0</td>\n",
       "      <td>0</td>\n",
       "      <td>...</td>\n",
       "      <td>0</td>\n",
       "      <td>0</td>\n",
       "      <td>0</td>\n",
       "      <td>0</td>\n",
       "      <td>0</td>\n",
       "      <td>0</td>\n",
       "      <td>0</td>\n",
       "      <td>0</td>\n",
       "      <td>0</td>\n",
       "      <td>1995</td>\n",
       "    </tr>\n",
       "    <tr>\n",
       "      <th>4</th>\n",
       "      <td>4</td>\n",
       "      <td>Father of the Bride Part II</td>\n",
       "      <td>0</td>\n",
       "      <td>1</td>\n",
       "      <td>0</td>\n",
       "      <td>0</td>\n",
       "      <td>0</td>\n",
       "      <td>0</td>\n",
       "      <td>0</td>\n",
       "      <td>0</td>\n",
       "      <td>...</td>\n",
       "      <td>0</td>\n",
       "      <td>0</td>\n",
       "      <td>0</td>\n",
       "      <td>0</td>\n",
       "      <td>0</td>\n",
       "      <td>0</td>\n",
       "      <td>0</td>\n",
       "      <td>0</td>\n",
       "      <td>0</td>\n",
       "      <td>1995</td>\n",
       "    </tr>\n",
       "  </tbody>\n",
       "</table>\n",
       "<p>5 rows × 21 columns</p>\n",
       "</div>"
      ],
      "text/plain": [
       "   movie_id                        title  is_drama  is_comedy  is_action  \\\n",
       "0         0                    Toy Story         0          1          0   \n",
       "1         1                      Jumanji         0          0          0   \n",
       "2         2             Grumpier Old Men         0          1          0   \n",
       "3         3            Waiting to Exhale         1          1          0   \n",
       "4         4  Father of the Bride Part II         0          1          0   \n",
       "\n",
       "   is_thriller  is_romance  is_horror  is_adventure  is_scifi  ...  is_crime  \\\n",
       "0            0           0          0             0         0  ...         0   \n",
       "1            0           0          0             1         0  ...         0   \n",
       "2            0           1          0             0         0  ...         0   \n",
       "3            0           0          0             0         0  ...         0   \n",
       "4            0           0          0             0         0  ...         0   \n",
       "\n",
       "   is_war  is_documentary  is_musical  is_mystery  is_animation  is_fantasy  \\\n",
       "0       0               0           0           0             1           0   \n",
       "1       0               0           0           0             0           1   \n",
       "2       0               0           0           0             0           0   \n",
       "3       0               0           0           0             0           0   \n",
       "4       0               0           0           0             0           0   \n",
       "\n",
       "   is_western  is_filmnoir  year  \n",
       "0           0            0  1995  \n",
       "1           0            0  1995  \n",
       "2           0            0  1995  \n",
       "3           0            0  1995  \n",
       "4           0            0  1995  \n",
       "\n",
       "[5 rows x 21 columns]"
      ]
     },
     "execution_count": 11,
     "metadata": {},
     "output_type": "execute_result"
    }
   ],
   "source": [
    "#review data sample\n",
    "movies.head()"
   ]
  },
  {
   "cell_type": "markdown",
   "metadata": {},
   "source": [
    "We now need to splice the review data along the various feature sets. Deploy a function that adds in a new column to the reviews dataset for a given indicator variable, and returns only those reviews from users who meet that criterion."
   ]
  },
  {
   "cell_type": "code",
   "execution_count": 12,
   "metadata": {},
   "outputs": [],
   "source": [
    "from tqdm import tqdm_notebook\n",
    "\n",
    "def UserIndicatorExtract(idcol,indicatorcol):\n",
    "    '''\n",
    "    Accepts a column of a DataFrame.  Extracts the value and DataFrame index of that column,\n",
    "    returning a dictionary of {value: index} that can be used to transform the index of the dataset to\n",
    "    match the row indexing of the DataFrame.\n",
    "    '''\n",
    "    index_dict = {}\n",
    "    #for index, value in tqdm_notebook(enumerate(idcol)):\n",
    "    for index, value in enumerate(idcol):\n",
    "        index_dict.update({value : indicatorcol[index]})\n",
    "    return index_dict"
   ]
  },
  {
   "cell_type": "code",
   "execution_count": 16,
   "metadata": {},
   "outputs": [],
   "source": [
    "def AddIndicator(indicatorcol, reviewdf, reviewidcol):\n",
    "    #extract indicator column name\n",
    "    new_col_name = indicatorcol.name\n",
    "    #copy ID column into new indicator column\n",
    "    reviewdf['newcol'] = reviewidcol\n",
    "    #create dict of user_id : indicator, apply over new col\n",
    "    indicator_dict = UserIndicatorExtract(users.user_id,indicatorcol)\n",
    "    reviewdf.newcol.replace(to_replace = indicator_dict, inplace = True)\n",
    "    reviewdf.rename(columns={'newcol':new_col_name}, inplace = True)"
   ]
  },
  {
   "cell_type": "code",
   "execution_count": 13,
   "metadata": {},
   "outputs": [
    {
     "data": {
      "text/plain": [
       "Index(['user_id', 'is_F', 'is_M', 'zip_0', 'zip_1', 'zip_2', 'zip_3', 'zip_4',\n",
       "       'zip_5', 'zip_6', 'zip_7', 'zip_8', 'zip_9', 'age_18_24', 'age_25_34',\n",
       "       'age_35_44', 'age_45_49', 'age_50_55', 'age_56plus', 'age_u18',\n",
       "       'job_artist', 'job_clerical', 'job_college_student', 'job_cust_service',\n",
       "       'job_engineer', 'job_exec', 'job_farmer', 'job_homemaker',\n",
       "       'job_k12student', 'job_lawyer', 'job_medical', 'job_other',\n",
       "       'job_programmer', 'job_retired', 'job_sales', 'job_scientist',\n",
       "       'job_self_emp', 'job_teacher', 'job_trade', 'job_unemployed',\n",
       "       'job_writer'],\n",
       "      dtype='object')"
      ]
     },
     "execution_count": 13,
     "metadata": {},
     "output_type": "execute_result"
    }
   ],
   "source": [
    "users.columns"
   ]
  },
  {
   "cell_type": "code",
   "execution_count": 14,
   "metadata": {},
   "outputs": [],
   "source": [
    "features_to_add = [users.is_F , users.is_M , users.zip_0 , users.zip_1 , users.zip_2 , users.zip_3 , users.zip_4,\n",
    "       users.zip_5 , users.zip_6 , users.zip_7 , users.zip_8 , users.zip_9 , users.age_18_24 , users.age_25_34,\n",
    "       users.age_35_44 , users.age_45_49 , users.age_50_55 , users.age_56plus , users.age_u18,\n",
    "       users.job_artist , users.job_clerical , users.job_college_student , users.job_cust_service,\n",
    "       users.job_engineer , users.job_exec , users.job_farmer , users.job_homemaker,\n",
    "       users.job_k12student , users.job_lawyer , users.job_medical , users.job_other,\n",
    "       users.job_programmer , users.job_retired , users.job_sales , users.job_scientist,\n",
    "       users.job_self_emp , users.job_teacher , users.job_trade , users.job_unemployed,\n",
    "       users.job_writer]"
   ]
  },
  {
   "cell_type": "markdown",
   "metadata": {},
   "source": [
    "Adding these features is time-consuming - we save the output so it can be reloaded in the future."
   ]
  },
  {
   "cell_type": "code",
   "execution_count": 17,
   "metadata": {},
   "outputs": [
    {
     "data": {
      "application/vnd.jupyter.widget-view+json": {
       "model_id": "d5169fdbf7d0402fa8d2c86d4cd40eb7",
       "version_major": 2,
       "version_minor": 0
      },
      "text/plain": [
       "HBox(children=(IntProgress(value=0, max=40), HTML(value='')))"
      ]
     },
     "metadata": {},
     "output_type": "display_data"
    },
    {
     "name": "stdout",
     "output_type": "stream",
     "text": [
      "\n"
     ]
    }
   ],
   "source": [
    "from tqdm import tqdm_notebook\n",
    "\n",
    "for feature in tqdm_notebook(features_to_add):\n",
    "    AddIndicator(feature, ratings, ratings.user_id)"
   ]
  },
  {
   "cell_type": "markdown",
   "metadata": {},
   "source": [
    "To confirm the process completed as hoped for, we review a sample filter on the review dataset."
   ]
  },
  {
   "cell_type": "code",
   "execution_count": 20,
   "metadata": {
    "scrolled": true
   },
   "outputs": [
    {
     "data": {
      "text/html": [
       "<div>\n",
       "<style scoped>\n",
       "    .dataframe tbody tr th:only-of-type {\n",
       "        vertical-align: middle;\n",
       "    }\n",
       "\n",
       "    .dataframe tbody tr th {\n",
       "        vertical-align: top;\n",
       "    }\n",
       "\n",
       "    .dataframe thead th {\n",
       "        text-align: right;\n",
       "    }\n",
       "</style>\n",
       "<table border=\"1\" class=\"dataframe\">\n",
       "  <thead>\n",
       "    <tr style=\"text-align: right;\">\n",
       "      <th></th>\n",
       "      <th>user_id</th>\n",
       "      <th>movie_id</th>\n",
       "      <th>rating</th>\n",
       "      <th>is_F</th>\n",
       "      <th>is_M</th>\n",
       "      <th>zip_0</th>\n",
       "      <th>zip_1</th>\n",
       "      <th>zip_2</th>\n",
       "      <th>zip_3</th>\n",
       "      <th>zip_4</th>\n",
       "      <th>...</th>\n",
       "      <th>job_other</th>\n",
       "      <th>job_programmer</th>\n",
       "      <th>job_retired</th>\n",
       "      <th>job_sales</th>\n",
       "      <th>job_scientist</th>\n",
       "      <th>job_self_emp</th>\n",
       "      <th>job_teacher</th>\n",
       "      <th>job_trade</th>\n",
       "      <th>job_unemployed</th>\n",
       "      <th>job_writer</th>\n",
       "    </tr>\n",
       "  </thead>\n",
       "  <tbody>\n",
       "    <tr>\n",
       "      <th>0</th>\n",
       "      <td>0</td>\n",
       "      <td>1176</td>\n",
       "      <td>5</td>\n",
       "      <td>0</td>\n",
       "      <td>0</td>\n",
       "      <td>0</td>\n",
       "      <td>0</td>\n",
       "      <td>0</td>\n",
       "      <td>0</td>\n",
       "      <td>0</td>\n",
       "      <td>...</td>\n",
       "      <td>0</td>\n",
       "      <td>0</td>\n",
       "      <td>0</td>\n",
       "      <td>0</td>\n",
       "      <td>0</td>\n",
       "      <td>0</td>\n",
       "      <td>0</td>\n",
       "      <td>0</td>\n",
       "      <td>0</td>\n",
       "      <td>0</td>\n",
       "    </tr>\n",
       "    <tr>\n",
       "      <th>1</th>\n",
       "      <td>0</td>\n",
       "      <td>655</td>\n",
       "      <td>3</td>\n",
       "      <td>0</td>\n",
       "      <td>0</td>\n",
       "      <td>0</td>\n",
       "      <td>0</td>\n",
       "      <td>0</td>\n",
       "      <td>0</td>\n",
       "      <td>0</td>\n",
       "      <td>...</td>\n",
       "      <td>0</td>\n",
       "      <td>0</td>\n",
       "      <td>0</td>\n",
       "      <td>0</td>\n",
       "      <td>0</td>\n",
       "      <td>0</td>\n",
       "      <td>0</td>\n",
       "      <td>0</td>\n",
       "      <td>0</td>\n",
       "      <td>0</td>\n",
       "    </tr>\n",
       "    <tr>\n",
       "      <th>2</th>\n",
       "      <td>0</td>\n",
       "      <td>902</td>\n",
       "      <td>3</td>\n",
       "      <td>0</td>\n",
       "      <td>0</td>\n",
       "      <td>0</td>\n",
       "      <td>0</td>\n",
       "      <td>0</td>\n",
       "      <td>0</td>\n",
       "      <td>0</td>\n",
       "      <td>...</td>\n",
       "      <td>0</td>\n",
       "      <td>0</td>\n",
       "      <td>0</td>\n",
       "      <td>0</td>\n",
       "      <td>0</td>\n",
       "      <td>0</td>\n",
       "      <td>0</td>\n",
       "      <td>0</td>\n",
       "      <td>0</td>\n",
       "      <td>0</td>\n",
       "    </tr>\n",
       "    <tr>\n",
       "      <th>3</th>\n",
       "      <td>0</td>\n",
       "      <td>3339</td>\n",
       "      <td>4</td>\n",
       "      <td>0</td>\n",
       "      <td>0</td>\n",
       "      <td>0</td>\n",
       "      <td>0</td>\n",
       "      <td>0</td>\n",
       "      <td>0</td>\n",
       "      <td>0</td>\n",
       "      <td>...</td>\n",
       "      <td>0</td>\n",
       "      <td>0</td>\n",
       "      <td>0</td>\n",
       "      <td>0</td>\n",
       "      <td>0</td>\n",
       "      <td>0</td>\n",
       "      <td>0</td>\n",
       "      <td>0</td>\n",
       "      <td>0</td>\n",
       "      <td>0</td>\n",
       "    </tr>\n",
       "    <tr>\n",
       "      <th>4</th>\n",
       "      <td>0</td>\n",
       "      <td>2286</td>\n",
       "      <td>5</td>\n",
       "      <td>0</td>\n",
       "      <td>0</td>\n",
       "      <td>0</td>\n",
       "      <td>0</td>\n",
       "      <td>0</td>\n",
       "      <td>0</td>\n",
       "      <td>0</td>\n",
       "      <td>...</td>\n",
       "      <td>0</td>\n",
       "      <td>0</td>\n",
       "      <td>0</td>\n",
       "      <td>0</td>\n",
       "      <td>0</td>\n",
       "      <td>0</td>\n",
       "      <td>0</td>\n",
       "      <td>0</td>\n",
       "      <td>0</td>\n",
       "      <td>0</td>\n",
       "    </tr>\n",
       "  </tbody>\n",
       "</table>\n",
       "<p>5 rows × 43 columns</p>\n",
       "</div>"
      ],
      "text/plain": [
       "   user_id  movie_id  rating  is_F  is_M  zip_0  zip_1  zip_2  zip_3  zip_4  \\\n",
       "0        0      1176       5     0     0      0      0      0      0      0   \n",
       "1        0       655       3     0     0      0      0      0      0      0   \n",
       "2        0       902       3     0     0      0      0      0      0      0   \n",
       "3        0      3339       4     0     0      0      0      0      0      0   \n",
       "4        0      2286       5     0     0      0      0      0      0      0   \n",
       "\n",
       "   ...  job_other  job_programmer  job_retired  job_sales  job_scientist  \\\n",
       "0  ...          0               0            0          0              0   \n",
       "1  ...          0               0            0          0              0   \n",
       "2  ...          0               0            0          0              0   \n",
       "3  ...          0               0            0          0              0   \n",
       "4  ...          0               0            0          0              0   \n",
       "\n",
       "   job_self_emp  job_teacher  job_trade  job_unemployed  job_writer  \n",
       "0             0            0          0               0           0  \n",
       "1             0            0          0               0           0  \n",
       "2             0            0          0               0           0  \n",
       "3             0            0          0               0           0  \n",
       "4             0            0          0               0           0  \n",
       "\n",
       "[5 rows x 43 columns]"
      ]
     },
     "execution_count": 20,
     "metadata": {},
     "output_type": "execute_result"
    }
   ],
   "source": [
    "ratings.loc[ratings['is_F'] == 0].head()"
   ]
  },
  {
   "cell_type": "code",
   "execution_count": 19,
   "metadata": {},
   "outputs": [],
   "source": [
    "ratings.to_csv('ratings_with_features.csv', header = True)"
   ]
  },
  {
   "cell_type": "code",
   "execution_count": null,
   "metadata": {},
   "outputs": [],
   "source": [
    "ratings = pd.read_csv('ratings_with_features.csv', usecols = ['user_id', 'movie_id', 'rating', 'zip', 'is_F', 'is_M',\n",
    "       'age_18_24', 'age_25_34', 'age_35_44', 'age_45_49', 'age_50_55',\n",
    "       'age_56plus', 'age_u18', 'job_artist', 'job_clerical',\n",
    "       'job_college_student', 'job_cust_service', 'job_engineer', 'job_exec',\n",
    "       'job_farmer', 'job_homemaker', 'job_k12student', 'job_lawyer',\n",
    "       'job_medical', 'job_other', 'job_programmer', 'job_retired',\n",
    "       'job_sales', 'job_scientist', 'job_self_emp', 'job_teacher',\n",
    "       'job_trade', 'job_unemployed', 'job_writer'])"
   ]
  },
  {
   "cell_type": "code",
   "execution_count": 21,
   "metadata": {},
   "outputs": [
    {
     "data": {
      "text/html": [
       "<div>\n",
       "<style scoped>\n",
       "    .dataframe tbody tr th:only-of-type {\n",
       "        vertical-align: middle;\n",
       "    }\n",
       "\n",
       "    .dataframe tbody tr th {\n",
       "        vertical-align: top;\n",
       "    }\n",
       "\n",
       "    .dataframe thead th {\n",
       "        text-align: right;\n",
       "    }\n",
       "</style>\n",
       "<table border=\"1\" class=\"dataframe\">\n",
       "  <thead>\n",
       "    <tr style=\"text-align: right;\">\n",
       "      <th></th>\n",
       "      <th>user_id</th>\n",
       "      <th>movie_id</th>\n",
       "      <th>rating</th>\n",
       "      <th>is_F</th>\n",
       "      <th>is_M</th>\n",
       "      <th>zip_0</th>\n",
       "      <th>zip_1</th>\n",
       "      <th>zip_2</th>\n",
       "      <th>zip_3</th>\n",
       "      <th>zip_4</th>\n",
       "      <th>...</th>\n",
       "      <th>job_other</th>\n",
       "      <th>job_programmer</th>\n",
       "      <th>job_retired</th>\n",
       "      <th>job_sales</th>\n",
       "      <th>job_scientist</th>\n",
       "      <th>job_self_emp</th>\n",
       "      <th>job_teacher</th>\n",
       "      <th>job_trade</th>\n",
       "      <th>job_unemployed</th>\n",
       "      <th>job_writer</th>\n",
       "    </tr>\n",
       "  </thead>\n",
       "  <tbody>\n",
       "    <tr>\n",
       "      <th>0</th>\n",
       "      <td>0</td>\n",
       "      <td>1176</td>\n",
       "      <td>5</td>\n",
       "      <td>0</td>\n",
       "      <td>0</td>\n",
       "      <td>0</td>\n",
       "      <td>0</td>\n",
       "      <td>0</td>\n",
       "      <td>0</td>\n",
       "      <td>0</td>\n",
       "      <td>...</td>\n",
       "      <td>0</td>\n",
       "      <td>0</td>\n",
       "      <td>0</td>\n",
       "      <td>0</td>\n",
       "      <td>0</td>\n",
       "      <td>0</td>\n",
       "      <td>0</td>\n",
       "      <td>0</td>\n",
       "      <td>0</td>\n",
       "      <td>0</td>\n",
       "    </tr>\n",
       "    <tr>\n",
       "      <th>1</th>\n",
       "      <td>0</td>\n",
       "      <td>655</td>\n",
       "      <td>3</td>\n",
       "      <td>0</td>\n",
       "      <td>0</td>\n",
       "      <td>0</td>\n",
       "      <td>0</td>\n",
       "      <td>0</td>\n",
       "      <td>0</td>\n",
       "      <td>0</td>\n",
       "      <td>...</td>\n",
       "      <td>0</td>\n",
       "      <td>0</td>\n",
       "      <td>0</td>\n",
       "      <td>0</td>\n",
       "      <td>0</td>\n",
       "      <td>0</td>\n",
       "      <td>0</td>\n",
       "      <td>0</td>\n",
       "      <td>0</td>\n",
       "      <td>0</td>\n",
       "    </tr>\n",
       "    <tr>\n",
       "      <th>2</th>\n",
       "      <td>0</td>\n",
       "      <td>902</td>\n",
       "      <td>3</td>\n",
       "      <td>0</td>\n",
       "      <td>0</td>\n",
       "      <td>0</td>\n",
       "      <td>0</td>\n",
       "      <td>0</td>\n",
       "      <td>0</td>\n",
       "      <td>0</td>\n",
       "      <td>...</td>\n",
       "      <td>0</td>\n",
       "      <td>0</td>\n",
       "      <td>0</td>\n",
       "      <td>0</td>\n",
       "      <td>0</td>\n",
       "      <td>0</td>\n",
       "      <td>0</td>\n",
       "      <td>0</td>\n",
       "      <td>0</td>\n",
       "      <td>0</td>\n",
       "    </tr>\n",
       "    <tr>\n",
       "      <th>3</th>\n",
       "      <td>0</td>\n",
       "      <td>3339</td>\n",
       "      <td>4</td>\n",
       "      <td>0</td>\n",
       "      <td>0</td>\n",
       "      <td>0</td>\n",
       "      <td>0</td>\n",
       "      <td>0</td>\n",
       "      <td>0</td>\n",
       "      <td>0</td>\n",
       "      <td>...</td>\n",
       "      <td>0</td>\n",
       "      <td>0</td>\n",
       "      <td>0</td>\n",
       "      <td>0</td>\n",
       "      <td>0</td>\n",
       "      <td>0</td>\n",
       "      <td>0</td>\n",
       "      <td>0</td>\n",
       "      <td>0</td>\n",
       "      <td>0</td>\n",
       "    </tr>\n",
       "    <tr>\n",
       "      <th>4</th>\n",
       "      <td>0</td>\n",
       "      <td>2286</td>\n",
       "      <td>5</td>\n",
       "      <td>0</td>\n",
       "      <td>0</td>\n",
       "      <td>0</td>\n",
       "      <td>0</td>\n",
       "      <td>0</td>\n",
       "      <td>0</td>\n",
       "      <td>0</td>\n",
       "      <td>...</td>\n",
       "      <td>0</td>\n",
       "      <td>0</td>\n",
       "      <td>0</td>\n",
       "      <td>0</td>\n",
       "      <td>0</td>\n",
       "      <td>0</td>\n",
       "      <td>0</td>\n",
       "      <td>0</td>\n",
       "      <td>0</td>\n",
       "      <td>0</td>\n",
       "    </tr>\n",
       "  </tbody>\n",
       "</table>\n",
       "<p>5 rows × 43 columns</p>\n",
       "</div>"
      ],
      "text/plain": [
       "   user_id  movie_id  rating  is_F  is_M  zip_0  zip_1  zip_2  zip_3  zip_4  \\\n",
       "0        0      1176       5     0     0      0      0      0      0      0   \n",
       "1        0       655       3     0     0      0      0      0      0      0   \n",
       "2        0       902       3     0     0      0      0      0      0      0   \n",
       "3        0      3339       4     0     0      0      0      0      0      0   \n",
       "4        0      2286       5     0     0      0      0      0      0      0   \n",
       "\n",
       "   ...  job_other  job_programmer  job_retired  job_sales  job_scientist  \\\n",
       "0  ...          0               0            0          0              0   \n",
       "1  ...          0               0            0          0              0   \n",
       "2  ...          0               0            0          0              0   \n",
       "3  ...          0               0            0          0              0   \n",
       "4  ...          0               0            0          0              0   \n",
       "\n",
       "   job_self_emp  job_teacher  job_trade  job_unemployed  job_writer  \n",
       "0             0            0          0               0           0  \n",
       "1             0            0          0               0           0  \n",
       "2             0            0          0               0           0  \n",
       "3             0            0          0               0           0  \n",
       "4             0            0          0               0           0  \n",
       "\n",
       "[5 rows x 43 columns]"
      ]
     },
     "execution_count": 21,
     "metadata": {},
     "output_type": "execute_result"
    }
   ],
   "source": [
    "ratings.head()"
   ]
  },
  {
   "cell_type": "markdown",
   "metadata": {},
   "source": [
    "With the model space now prepared, we run an algorithm that will compute the grand mean values for each indicator variable, and then find the differences of means for the reviewers of each film.  If the mean for a particular film is higher than the grand mean, it indicates that the film in question is particularly popular among that demographic subgroup.  These mean difference values can then be queried to find the $n$ most uniquely popular films for that group. Note that we also preserve the rating value so that we can ensure that the films unique to a group are uniquely *liked* by that grouping."
   ]
  },
  {
   "cell_type": "code",
   "execution_count": 28,
   "metadata": {},
   "outputs": [],
   "source": [
    "ratings_stripped = ratings.iloc[:,2:]"
   ]
  },
  {
   "cell_type": "code",
   "execution_count": 29,
   "metadata": {},
   "outputs": [
    {
     "data": {
      "text/plain": [
       "rating                 3.582310\n",
       "is_F                   0.279077\n",
       "is_M                   0.720870\n",
       "zip_0                  0.113477\n",
       "zip_1                  0.106213\n",
       "zip_2                  0.070339\n",
       "zip_3                  0.063083\n",
       "zip_4                  0.098261\n",
       "zip_5                  0.103800\n",
       "zip_6                  0.069291\n",
       "zip_7                  0.071973\n",
       "zip_8                  0.050543\n",
       "zip_9                  0.252967\n",
       "age_18_24              0.188410\n",
       "age_25_34              0.341343\n",
       "age_35_44              0.194406\n",
       "age_45_49              0.091935\n",
       "age_50_55              0.082284\n",
       "age_56plus             0.063096\n",
       "age_u18                0.038472\n",
       "job_artist             0.041946\n",
       "job_clerical           0.027640\n",
       "job_college_student    0.133448\n",
       "job_cust_service       0.018077\n",
       "job_engineer           0.085974\n",
       "job_exec               0.108468\n",
       "job_farmer             0.002227\n",
       "job_homemaker          0.013141\n",
       "job_k12student         0.031817\n",
       "job_lawyer             0.020377\n",
       "job_medical            0.040248\n",
       "job_other              0.120110\n",
       "job_programmer         0.065098\n",
       "job_retired            0.024619\n",
       "job_sales              0.045706\n",
       "job_scientist          0.025255\n",
       "job_self_emp           0.039135\n",
       "job_teacher            0.082050\n",
       "job_trade              0.012026\n",
       "job_unemployed         0.013005\n",
       "job_writer             0.049581\n",
       "dtype: float64"
      ]
     },
     "execution_count": 29,
     "metadata": {},
     "output_type": "execute_result"
    }
   ],
   "source": [
    "ratings_all_means = ratings_stripped.mean()\n",
    "#abs(ratings[ratings.movie_id == 123].mean() - ratings_all_means)\n",
    "ratings_all_means"
   ]
  },
  {
   "cell_type": "markdown",
   "metadata": {},
   "source": [
    "To ensure the algorithm is not thrown off by a single user within the set, it will ignore any film with fewer than ten ratings."
   ]
  },
  {
   "cell_type": "code",
   "execution_count": 30,
   "metadata": {},
   "outputs": [],
   "source": [
    "def FindUniqueFilmsByFeature(num_movies = 3883):\n",
    "    #extract grand means of dataset\n",
    "    ratings_all_means = ratings_stripped.mean()\n",
    "    #extract column names\n",
    "    col_names = ratings_stripped.columns\n",
    "    output = pd.DataFrame(index=np.arange(num_movies), columns=col_names).fillna(0)\n",
    "    output.fillna(0)\n",
    "    for film_id in tqdm_notebook(np.arange(num_movies)):\n",
    "        if ratings[ratings.movie_id == film_id].shape[0] < 10:\n",
    "            pass\n",
    "        else:\n",
    "            output.iloc[film_id] = ratings_stripped[ratings.movie_id == film_id].mean() - ratings_all_means\n",
    "    return output"
   ]
  },
  {
   "cell_type": "code",
   "execution_count": 31,
   "metadata": {},
   "outputs": [
    {
     "data": {
      "application/vnd.jupyter.widget-view+json": {
       "model_id": "7b90bf32d70d4b62ae49da41f3c82233",
       "version_major": 2,
       "version_minor": 0
      },
      "text/plain": [
       "HBox(children=(IntProgress(value=0, max=3883), HTML(value='')))"
      ]
     },
     "metadata": {},
     "output_type": "display_data"
    },
    {
     "name": "stdout",
     "output_type": "stream",
     "text": [
      "\n"
     ]
    }
   ],
   "source": [
    "user_rating_feature_map = FindUniqueFilmsByFeature(num_movies = 3883)"
   ]
  },
  {
   "cell_type": "code",
   "execution_count": 32,
   "metadata": {},
   "outputs": [
    {
     "data": {
      "text/html": [
       "<div>\n",
       "<style scoped>\n",
       "    .dataframe tbody tr th:only-of-type {\n",
       "        vertical-align: middle;\n",
       "    }\n",
       "\n",
       "    .dataframe tbody tr th {\n",
       "        vertical-align: top;\n",
       "    }\n",
       "\n",
       "    .dataframe thead th {\n",
       "        text-align: right;\n",
       "    }\n",
       "</style>\n",
       "<table border=\"1\" class=\"dataframe\">\n",
       "  <thead>\n",
       "    <tr style=\"text-align: right;\">\n",
       "      <th></th>\n",
       "      <th>rating</th>\n",
       "      <th>is_F</th>\n",
       "      <th>is_M</th>\n",
       "      <th>zip_0</th>\n",
       "      <th>zip_1</th>\n",
       "      <th>zip_2</th>\n",
       "      <th>zip_3</th>\n",
       "      <th>zip_4</th>\n",
       "      <th>zip_5</th>\n",
       "      <th>zip_6</th>\n",
       "      <th>...</th>\n",
       "      <th>job_other</th>\n",
       "      <th>job_programmer</th>\n",
       "      <th>job_retired</th>\n",
       "      <th>job_sales</th>\n",
       "      <th>job_scientist</th>\n",
       "      <th>job_self_emp</th>\n",
       "      <th>job_teacher</th>\n",
       "      <th>job_trade</th>\n",
       "      <th>job_unemployed</th>\n",
       "      <th>job_writer</th>\n",
       "    </tr>\n",
       "  </thead>\n",
       "  <tbody>\n",
       "    <tr>\n",
       "      <th>0</th>\n",
       "      <td>0.564536</td>\n",
       "      <td>-0.008012</td>\n",
       "      <td>0.007584</td>\n",
       "      <td>0.003519</td>\n",
       "      <td>0.000672</td>\n",
       "      <td>-0.004379</td>\n",
       "      <td>-0.000974</td>\n",
       "      <td>0.001884</td>\n",
       "      <td>0.009344</td>\n",
       "      <td>-0.000923</td>\n",
       "      <td>...</td>\n",
       "      <td>0.001219</td>\n",
       "      <td>-0.001063</td>\n",
       "      <td>-0.001990</td>\n",
       "      <td>0.002922</td>\n",
       "      <td>0.002189</td>\n",
       "      <td>0.003234</td>\n",
       "      <td>0.010391</td>\n",
       "      <td>-0.001433</td>\n",
       "      <td>-0.001450</td>\n",
       "      <td>0.001935</td>\n",
       "    </tr>\n",
       "    <tr>\n",
       "      <th>1</th>\n",
       "      <td>-0.381169</td>\n",
       "      <td>-0.018021</td>\n",
       "      <td>0.018074</td>\n",
       "      <td>-0.007913</td>\n",
       "      <td>-0.004929</td>\n",
       "      <td>0.009547</td>\n",
       "      <td>0.016803</td>\n",
       "      <td>-0.012669</td>\n",
       "      <td>0.010322</td>\n",
       "      <td>0.007742</td>\n",
       "      <td>...</td>\n",
       "      <td>-0.000281</td>\n",
       "      <td>-0.012316</td>\n",
       "      <td>-0.004648</td>\n",
       "      <td>0.002796</td>\n",
       "      <td>0.007556</td>\n",
       "      <td>-0.007751</td>\n",
       "      <td>-0.002164</td>\n",
       "      <td>0.000813</td>\n",
       "      <td>0.001260</td>\n",
       "      <td>-0.008212</td>\n",
       "    </tr>\n",
       "    <tr>\n",
       "      <th>2</th>\n",
       "      <td>-0.565574</td>\n",
       "      <td>-0.011294</td>\n",
       "      <td>0.011348</td>\n",
       "      <td>0.012046</td>\n",
       "      <td>0.015126</td>\n",
       "      <td>0.007067</td>\n",
       "      <td>-0.006597</td>\n",
       "      <td>0.004250</td>\n",
       "      <td>0.017539</td>\n",
       "      <td>-0.004437</td>\n",
       "      <td>...</td>\n",
       "      <td>-0.009231</td>\n",
       "      <td>-0.006520</td>\n",
       "      <td>-0.001607</td>\n",
       "      <td>0.017056</td>\n",
       "      <td>0.004034</td>\n",
       "      <td>0.004798</td>\n",
       "      <td>-0.010920</td>\n",
       "      <td>-0.005749</td>\n",
       "      <td>-0.000453</td>\n",
       "      <td>-0.005648</td>\n",
       "    </tr>\n",
       "    <tr>\n",
       "      <th>3</th>\n",
       "      <td>-0.852898</td>\n",
       "      <td>-0.026135</td>\n",
       "      <td>0.026189</td>\n",
       "      <td>0.027700</td>\n",
       "      <td>-0.023860</td>\n",
       "      <td>0.000249</td>\n",
       "      <td>0.001623</td>\n",
       "      <td>-0.015908</td>\n",
       "      <td>0.019729</td>\n",
       "      <td>-0.010467</td>\n",
       "      <td>...</td>\n",
       "      <td>-0.031875</td>\n",
       "      <td>0.017255</td>\n",
       "      <td>-0.006972</td>\n",
       "      <td>0.007235</td>\n",
       "      <td>-0.007608</td>\n",
       "      <td>-0.015606</td>\n",
       "      <td>0.012068</td>\n",
       "      <td>-0.006143</td>\n",
       "      <td>0.022289</td>\n",
       "      <td>-0.002522</td>\n",
       "    </tr>\n",
       "    <tr>\n",
       "      <th>4</th>\n",
       "      <td>-0.575553</td>\n",
       "      <td>-0.015563</td>\n",
       "      <td>0.015616</td>\n",
       "      <td>0.004767</td>\n",
       "      <td>0.005273</td>\n",
       "      <td>0.003985</td>\n",
       "      <td>0.011242</td>\n",
       "      <td>-0.013801</td>\n",
       "      <td>0.004308</td>\n",
       "      <td>0.001655</td>\n",
       "      <td>...</td>\n",
       "      <td>0.018404</td>\n",
       "      <td>0.002470</td>\n",
       "      <td>0.002408</td>\n",
       "      <td>-0.001787</td>\n",
       "      <td>0.001772</td>\n",
       "      <td>-0.015487</td>\n",
       "      <td>-0.000969</td>\n",
       "      <td>0.001488</td>\n",
       "      <td>0.003887</td>\n",
       "      <td>-0.002284</td>\n",
       "    </tr>\n",
       "  </tbody>\n",
       "</table>\n",
       "<p>5 rows × 41 columns</p>\n",
       "</div>"
      ],
      "text/plain": [
       "     rating      is_F      is_M     zip_0     zip_1     zip_2     zip_3  \\\n",
       "0  0.564536 -0.008012  0.007584  0.003519  0.000672 -0.004379 -0.000974   \n",
       "1 -0.381169 -0.018021  0.018074 -0.007913 -0.004929  0.009547  0.016803   \n",
       "2 -0.565574 -0.011294  0.011348  0.012046  0.015126  0.007067 -0.006597   \n",
       "3 -0.852898 -0.026135  0.026189  0.027700 -0.023860  0.000249  0.001623   \n",
       "4 -0.575553 -0.015563  0.015616  0.004767  0.005273  0.003985  0.011242   \n",
       "\n",
       "      zip_4     zip_5     zip_6  ...  job_other  job_programmer  job_retired  \\\n",
       "0  0.001884  0.009344 -0.000923  ...   0.001219       -0.001063    -0.001990   \n",
       "1 -0.012669  0.010322  0.007742  ...  -0.000281       -0.012316    -0.004648   \n",
       "2  0.004250  0.017539 -0.004437  ...  -0.009231       -0.006520    -0.001607   \n",
       "3 -0.015908  0.019729 -0.010467  ...  -0.031875        0.017255    -0.006972   \n",
       "4 -0.013801  0.004308  0.001655  ...   0.018404        0.002470     0.002408   \n",
       "\n",
       "   job_sales  job_scientist  job_self_emp  job_teacher  job_trade  \\\n",
       "0   0.002922       0.002189      0.003234     0.010391  -0.001433   \n",
       "1   0.002796       0.007556     -0.007751    -0.002164   0.000813   \n",
       "2   0.017056       0.004034      0.004798    -0.010920  -0.005749   \n",
       "3   0.007235      -0.007608     -0.015606     0.012068  -0.006143   \n",
       "4  -0.001787       0.001772     -0.015487    -0.000969   0.001488   \n",
       "\n",
       "   job_unemployed  job_writer  \n",
       "0       -0.001450    0.001935  \n",
       "1        0.001260   -0.008212  \n",
       "2       -0.000453   -0.005648  \n",
       "3        0.022289   -0.002522  \n",
       "4        0.003887   -0.002284  \n",
       "\n",
       "[5 rows x 41 columns]"
      ]
     },
     "execution_count": 32,
     "metadata": {},
     "output_type": "execute_result"
    }
   ],
   "source": [
    "user_rating_feature_map.head()"
   ]
  },
  {
   "cell_type": "code",
   "execution_count": 33,
   "metadata": {},
   "outputs": [
    {
     "data": {
      "text/plain": [
       "Index(['rating', 'is_F', 'is_M', 'zip_0', 'zip_1', 'zip_2', 'zip_3', 'zip_4',\n",
       "       'zip_5', 'zip_6', 'zip_7', 'zip_8', 'zip_9', 'age_18_24', 'age_25_34',\n",
       "       'age_35_44', 'age_45_49', 'age_50_55', 'age_56plus', 'age_u18',\n",
       "       'job_artist', 'job_clerical', 'job_college_student', 'job_cust_service',\n",
       "       'job_engineer', 'job_exec', 'job_farmer', 'job_homemaker',\n",
       "       'job_k12student', 'job_lawyer', 'job_medical', 'job_other',\n",
       "       'job_programmer', 'job_retired', 'job_sales', 'job_scientist',\n",
       "       'job_self_emp', 'job_teacher', 'job_trade', 'job_unemployed',\n",
       "       'job_writer'],\n",
       "      dtype='object')"
      ]
     },
     "execution_count": 33,
     "metadata": {},
     "output_type": "execute_result"
    }
   ],
   "source": [
    "user_rating_feature_map.columns"
   ]
  },
  {
   "cell_type": "markdown",
   "metadata": {},
   "source": [
    "We now build a series of recommender helper functions that will power the final recommendation engine.  We have strong enough representation among the age, gender, and ZIP code data that each sub-model will find the ten most unique values to a given demographic grouping and then randomly return five of those results - this is done both to ensure the model achieves maximum coverage over the dataset and also to reduce the risk that the films returned are simply five movies that are quite popular overall but *extremely* popular among a demographic."
   ]
  },
  {
   "cell_type": "code",
   "execution_count": 75,
   "metadata": {},
   "outputs": [
    {
     "data": {
      "text/plain": [
       "[385, 295, 1496, 94, 627, 3023, 3568, 1399, 1138, 3543]"
      ]
     },
     "execution_count": 75,
     "metadata": {},
     "output_type": "execute_result"
    }
   ],
   "source": [
    "list(user_rating_feature_map[user_rating_feature_map.rating > 0].age_u18.nlargest(10).index)"
   ]
  },
  {
   "cell_type": "code",
   "execution_count": 79,
   "metadata": {},
   "outputs": [],
   "source": [
    "from random import choices\n",
    "\n",
    "def ColdStartAgeRecs(user_rating_feature_map, age):\n",
    "    #initialize list, ensure age is int type\n",
    "    rec_list = []\n",
    "    age = int(age)\n",
    "    if age <= 18:\n",
    "        rec_list = list(user_rating_feature_map[user_rating_feature_map.rating > 0].age_u18.nlargest(10).index)\n",
    "    elif age <= 24:\n",
    "        rec_list = list(user_rating_feature_map[user_rating_feature_map.rating > 0].age_18_24.nlargest(10).index)\n",
    "    elif age <= 34:\n",
    "        rec_list = list(user_rating_feature_map[user_rating_feature_map.rating > 0].age_25_34.nlargest(10).index)\n",
    "    elif age <= 44:\n",
    "        rec_list = list(user_rating_feature_map[user_rating_feature_map.rating > 0].age_35_44.nlargest(10).index)\n",
    "    elif age <= 49:\n",
    "        rec_list = list(user_rating_feature_map[user_rating_feature_map.rating > 0].age_45_49.nlargest(10).index)\n",
    "    elif age <= 55:\n",
    "        rec_list = list(user_rating_feature_map[user_rating_feature_map.rating > 0].age_50_55.nlargest(10).index)\n",
    "    else:\n",
    "        rec_list = list(user_rating_feature_map[user_rating_feature_map.rating > 0].age_56plus.nlargest(10).index)\n",
    "    output = choices(rec_list, k=5)\n",
    "    return output\n"
   ]
  },
  {
   "cell_type": "code",
   "execution_count": 92,
   "metadata": {},
   "outputs": [
    {
     "data": {
      "text/plain": [
       "[3068, 2835, 962, 761, 3213]"
      ]
     },
     "execution_count": 92,
     "metadata": {},
     "output_type": "execute_result"
    }
   ],
   "source": [
    "#test function output\n",
    "ColdStartAgeRecs(user_rating_feature_map, 34)"
   ]
  },
  {
   "cell_type": "code",
   "execution_count": 110,
   "metadata": {},
   "outputs": [],
   "source": [
    "def ColdStartJobRecs(user_rating_feature_map, job_num):\n",
    "    job_dict = {1: list(user_rating_feature_map[user_rating_feature_map.rating > 0].job_artist.nlargest(5).index), \n",
    "                2: list(user_rating_feature_map[user_rating_feature_map.rating > 0].job_clerical.nlargest(5).index), \n",
    "                3: list(user_rating_feature_map[user_rating_feature_map.rating > 0].job_college_student.nlargest(5).index), \n",
    "                4: list(user_rating_feature_map[user_rating_feature_map.rating > 0].job_cust_service.nlargest(5).index), \n",
    "                5: list(user_rating_feature_map[user_rating_feature_map.rating > 0].job_engineer.nlargest(5).index), \n",
    "                6: list(user_rating_feature_map[user_rating_feature_map.rating > 0].job_exec.nlargest(5).index), \n",
    "                7: list(user_rating_feature_map[user_rating_feature_map.rating > 0].job_farmer.nlargest(5).index), \n",
    "                8: list(user_rating_feature_map[user_rating_feature_map.rating > 0].job_homemaker.nlargest(5).index), \n",
    "                9: list(user_rating_feature_map[user_rating_feature_map.rating > 0].job_k12student.nlargest(5).index), \n",
    "                10: list(user_rating_feature_map[user_rating_feature_map.rating > 0].job_lawyer.nlargest(5).index), \n",
    "                11: list(user_rating_feature_map[user_rating_feature_map.rating > 0].job_medical.nlargest(5).index), \n",
    "                12: list(user_rating_feature_map[user_rating_feature_map.rating > 0].job_other.nlargest(5).index), \n",
    "                13: list(user_rating_feature_map[user_rating_feature_map.rating > 0].job_programmer.nlargest(5).index), \n",
    "                14: list(user_rating_feature_map[user_rating_feature_map.rating > 0].job_retired.nlargest(5).index), \n",
    "                15: list(user_rating_feature_map[user_rating_feature_map.rating > 0].job_sales.nlargest(5).index), \n",
    "                16: list(user_rating_feature_map[user_rating_feature_map.rating > 0].job_scientist.nlargest(5).index), \n",
    "                17: list(user_rating_feature_map[user_rating_feature_map.rating > 0].job_self_emp.nlargest(5).index),\n",
    "                18: list(user_rating_feature_map[user_rating_feature_map.rating > 0].job_teacher.nlargest(5).index), \n",
    "                19: list(user_rating_feature_map[user_rating_feature_map.rating > 0].job_trade.nlargest(5).index), \n",
    "                20: list(user_rating_feature_map[user_rating_feature_map.rating > 0].job_unemployed.nlargest(5).index), \n",
    "                21: list(user_rating_feature_map[user_rating_feature_map.rating > 0].job_writer.nlargest(5).index)}\n",
    "    return job_dict[job_num]"
   ]
  },
  {
   "cell_type": "code",
   "execution_count": 114,
   "metadata": {},
   "outputs": [
    {
     "data": {
      "text/plain": [
       "[2128, 853, 849, 3213, 835]"
      ]
     },
     "execution_count": 114,
     "metadata": {},
     "output_type": "execute_result"
    }
   ],
   "source": [
    "ColdStartJobRecs(user_rating_feature_map, 3)"
   ]
  },
  {
   "cell_type": "code",
   "execution_count": 116,
   "metadata": {},
   "outputs": [],
   "source": [
    "def ColdStartZipRecs(user_rating_feature_map, zip_num):\n",
    "    zip_num = int(zip_num)\n",
    "    zip_dict = {\n",
    "        0: list(user_rating_feature_map[user_rating_feature_map.rating > 0].zip_0.nlargest(10).index),\n",
    "        1: list(user_rating_feature_map[user_rating_feature_map.rating > 0].zip_1.nlargest(10).index),\n",
    "        2: list(user_rating_feature_map[user_rating_feature_map.rating > 0].zip_2.nlargest(10).index),\n",
    "        3: list(user_rating_feature_map[user_rating_feature_map.rating > 0].zip_3.nlargest(10).index),\n",
    "        4: list(user_rating_feature_map[user_rating_feature_map.rating > 0].zip_4.nlargest(10).index),\n",
    "        5: list(user_rating_feature_map[user_rating_feature_map.rating > 0].zip_5.nlargest(10).index),\n",
    "        6: list(user_rating_feature_map[user_rating_feature_map.rating > 0].zip_6.nlargest(10).index),\n",
    "        7: list(user_rating_feature_map[user_rating_feature_map.rating > 0].zip_7.nlargest(10).index),\n",
    "        8: list(user_rating_feature_map[user_rating_feature_map.rating > 0].zip_8.nlargest(10).index),\n",
    "        9: list(user_rating_feature_map[user_rating_feature_map.rating > 0].zip_9.nlargest(10).index),\n",
    "    }\n",
    "    output = choices(zip_dict[zip_num], k=5)\n",
    "    return output"
   ]
  },
  {
   "cell_type": "code",
   "execution_count": 120,
   "metadata": {},
   "outputs": [
    {
     "data": {
      "text/plain": [
       "[3563, 2862, 3576, 2273, 2273]"
      ]
     },
     "execution_count": 120,
     "metadata": {},
     "output_type": "execute_result"
    }
   ],
   "source": [
    "ColdStartZipRecs(user_rating_feature_map, 6)"
   ]
  },
  {
   "cell_type": "code",
   "execution_count": 140,
   "metadata": {},
   "outputs": [],
   "source": [
    "def ColdStartGenderRecs(user_rating_feature_map, is_F):\n",
    "    if is_F == 1:\n",
    "        long_list = list(user_rating_feature_map[user_rating_feature_map.rating > 0].is_F.nlargest(20).index)\n",
    "    else:\n",
    "        long_list =list(user_rating_feature_map[user_rating_feature_map.rating > 0].is_M.nlargest(20).index)\n",
    "    output = choices(long_list, k=10)\n",
    "    return output"
   ]
  },
  {
   "cell_type": "code",
   "execution_count": 144,
   "metadata": {},
   "outputs": [
    {
     "data": {
      "text/plain": [
       "[1138, 3260, 2412, 3563, 659, 1101, 3063, 693, 3563, 1138]"
      ]
     },
     "execution_count": 144,
     "metadata": {},
     "output_type": "execute_result"
    }
   ],
   "source": [
    "ColdStartGenderRecs(user_rating_feature_map, 1)"
   ]
  },
  {
   "cell_type": "code",
   "execution_count": 145,
   "metadata": {},
   "outputs": [],
   "source": [
    "def ColdStartRecs(user_rating_feature_map, age, job_num, zip_num, is_F):\n",
    "    #initialize list\n",
    "    big_list = []\n",
    "    #add age predictor values\n",
    "    big_list = ColdStartAgeRecs(user_rating_feature_map, age)\n",
    "    #add job values\n",
    "    big_list.extend(ColdStartJobRecs(user_rating_feature_map, job_num))\n",
    "    #add ZIP values\n",
    "    big_list.extend(ColdStartZipRecs(user_rating_feature_map, zip_num))\n",
    "    #add gender values\n",
    "    big_list.extend(ColdStartGenderRecs(user_rating_feature_map, is_F))\n",
    "    output = []\n",
    "    for index in big_list:\n",
    "        output.append(movies.title.iloc[index])\n",
    "    return np.unique(output)"
   ]
  },
  {
   "cell_type": "code",
   "execution_count": 146,
   "metadata": {},
   "outputs": [
    {
     "data": {
      "text/plain": [
       "array(['Arguing the World', 'Brother, Can You Spare a Dime?',\n",
       "       'Cold Fever', 'Different for Girls', 'Firelight',\n",
       "       'Hanging Garden, The', 'Hard Core Logo', 'Hate',\n",
       "       'Hearts and Minds', 'In the Bleak Midwinter', 'Land and Freedom',\n",
       "       'Last September, The', 'Love in the Afternoon',\n",
       "       'Lovers of the Arctic Circle, The', 'Monsieur Verdoux',\n",
       "       'Once Upon a Time... When We Were Colored', 'Roadside Prophets',\n",
       "       \"Some Mother's Son\", 'Time of the Gypsies', 'West Beirut'],\n",
       "      dtype='<U40')"
      ]
     },
     "execution_count": 146,
     "metadata": {},
     "output_type": "execute_result"
    }
   ],
   "source": [
    "ColdStartRecs(user_rating_feature_map, 34, 18, 6, 0)\n"
   ]
  },
  {
   "cell_type": "markdown",
   "metadata": {},
   "source": [
    "To get a sense of how far this model can dig into the total number of films in the dataset, we wrote a modified version of the function that will sum up the total amount of possible values that could be returned by the algorithm.  Note that we run the age and ZIP calls multiple times to get closer to the full ten values that each of those models could return."
   ]
  },
  {
   "cell_type": "code",
   "execution_count": 164,
   "metadata": {},
   "outputs": [],
   "source": [
    "def ColdStartRecCoverage(user_rating_feature_map):\n",
    "    #initialize list\n",
    "    big_list = []\n",
    "    \n",
    "    #add age predictor values\n",
    "    big_list.extend(list(user_rating_feature_map[user_rating_feature_map.rating > 0].age_u18.nlargest(10).index))\n",
    "    big_list.extend(list(user_rating_feature_map[user_rating_feature_map.rating > 0].age_18_24.nlargest(10).index))\n",
    "    big_list.extend(list(user_rating_feature_map[user_rating_feature_map.rating > 0].age_25_34.nlargest(10).index))\n",
    "    big_list.extend(list(user_rating_feature_map[user_rating_feature_map.rating > 0].age_35_44.nlargest(10).index))\n",
    "    big_list.extend(list(user_rating_feature_map[user_rating_feature_map.rating > 0].age_45_49.nlargest(10).index))\n",
    "    big_list.extend(list(user_rating_feature_map[user_rating_feature_map.rating > 0].age_50_55.nlargest(10).index))\n",
    "    big_list.extend(list(user_rating_feature_map[user_rating_feature_map.rating > 0].age_56plus.nlargest(10).index))\n",
    "    \n",
    "    #add job values\n",
    "    for job_num in np.arange(1,22):\n",
    "        big_list.extend(ColdStartJobRecs(user_rating_feature_map, job_num))\n",
    "    \n",
    "    #add ZIP values\n",
    "    big_list.extend(list(user_rating_feature_map[user_rating_feature_map.rating > 0].zip_0.nlargest(10).index))\n",
    "    big_list.extend(list(user_rating_feature_map[user_rating_feature_map.rating > 0].zip_1.nlargest(10).index))\n",
    "    big_list.extend(list(user_rating_feature_map[user_rating_feature_map.rating > 0].zip_2.nlargest(10).index))\n",
    "    big_list.extend(list(user_rating_feature_map[user_rating_feature_map.rating > 0].zip_3.nlargest(10).index))\n",
    "    big_list.extend(list(user_rating_feature_map[user_rating_feature_map.rating > 0].zip_4.nlargest(10).index))\n",
    "    big_list.extend(list(user_rating_feature_map[user_rating_feature_map.rating > 0].zip_5.nlargest(10).index))\n",
    "    big_list.extend(list(user_rating_feature_map[user_rating_feature_map.rating > 0].zip_6.nlargest(10).index))\n",
    "    big_list.extend(list(user_rating_feature_map[user_rating_feature_map.rating > 0].zip_7.nlargest(10).index))\n",
    "    big_list.extend(list(user_rating_feature_map[user_rating_feature_map.rating > 0].zip_8.nlargest(10).index))\n",
    "    big_list.extend(list(user_rating_feature_map[user_rating_feature_map.rating > 0].zip_9.nlargest(10).index))\n",
    "    #add gender values\n",
    "    big_list.extend(list(user_rating_feature_map[user_rating_feature_map.rating > 0].is_F.nlargest(20).index))\n",
    "    big_list.extend(list(user_rating_feature_map[user_rating_feature_map.rating > 0].is_M.nlargest(20).index))\n",
    "    \n",
    "    print(\"{0} total values generated, {1} are unique\".format(len(big_list),len(np.unique(big_list))))\n",
    "    print(\"{0:.3f} coverage factor for positively rated films\"\n",
    "          .format(user_rating_feature_map[user_rating_feature_map.rating > 0].shape[0]/user_rating_feature_map.shape[0]))"
   ]
  },
  {
   "cell_type": "code",
   "execution_count": 165,
   "metadata": {},
   "outputs": [
    {
     "name": "stdout",
     "output_type": "stream",
     "text": [
      "315 total values generated, 133 are unique\n",
      "0.298 coverage factor for positively rated films\n"
     ]
    }
   ],
   "source": [
    "ColdStartRecCoverage(user_rating_feature_map)"
   ]
  },
  {
   "cell_type": "markdown",
   "metadata": {},
   "source": [
    "To create a collaborative recommendation engine, we tried a few different approaches.  The first used a set of helper functions that will drive a looping function.  The first helper function will process the years values, and the second will use this value to help compute an overall similarity value.  Similarity value is defined so that two movies with no similiar genres will have a similarity score of 0, and a movie will have a similarity score of 1 to both itself and any other film with identical genres made in the same year."
   ]
  },
  {
   "cell_type": "markdown",
   "metadata": {},
   "source": [
    "At this point, we are now able to built matrices representing the similarity of two given movies along a given dimension.  The challenge was to find a logical and efficient means of doing so, and our first thought was to try and built out a custom-made algorithm.  These experiments, however, proved extremely computationally expensive: Pandas simply is not built for iterating over its rows and columns.  The principle we had in mind was simple enough - deploy an 'affinity-esque' principle in which the features two films share in common would be divided by the sum total of values between the two films, and return a value ranging from 0 (no features in common) to 1 (all features in common).\n",
    "\n",
    "Here are two function that were built out in an attempt to achieve such an outcome:\n",
    "\n",
    "```Python\n",
    "def SimilarityIndex(row, df):\n",
    "    '''\n",
    "    Accepts a row index and a DataFrame\n",
    "    \n",
    "    Returns a float of the similarity index of two films.  \n",
    "    Values range from 0 to 1.    \n",
    "    '''\n",
    "    #sum the rows\n",
    "    summed_rows = df.apply(lambda x: x + row, axis = 1)\n",
    "    summed_rows.drop('year', inplace = True, axis = 1)\n",
    "    #return summed_rows\n",
    "    #weight sum as (number of genre overlaps)/(total genre values)\n",
    "    feature_sums = round(summed_rows.apply(lambda x: sum(x.loc[x > 1])/(sum(x)), axis = 1), 3)\n",
    "    return feature_sums\n",
    "```\n",
    "Here is the second iteration of the same:\n",
    "\n",
    "```Python\n",
    "def SimilarityIndex(row1, row2):\n",
    "    '''\n",
    "    Accepts two pd.Series.\n",
    "    \n",
    "    Returns a float of the similarity index of two films.  \n",
    "    Values range from 0 to 1.    \n",
    "    '''\n",
    "    #sum the rows\n",
    "    summed_rows = row1[:-1] + row2[:-1]\n",
    "    #weight sum as (number of genre overlaps)/(total genre values)\n",
    "    feature_sum = sum(summed_rows[summed_rows == 2])/sum(summed_rows)\n",
    "    \n",
    "    if feature_sum == 0:\n",
    "        return 0\n",
    "    \n",
    "    else:\n",
    "        #weight year values by decreasing similarity index of films not made in same year\n",
    "        year_value = YearSimilarityIndex(row1[-1], row2[-1])\n",
    "        #round value to save storage space\n",
    "        output = round((feature_sum - year_value), 3)\n",
    "        return output\n",
    "    \n",
    "def MakeSimilarityMatrix(df):\n",
    "    '''\n",
    "    Accepts a DataFrame with indicator variables. \n",
    "    \n",
    "    Returns a similarity matrix such that output[i,j] = the similarity index of movie i to movie j.\n",
    "    '''\n",
    "    #extract the shape of the input matrix\n",
    "    rows, cols = df.shape\n",
    "    \n",
    "    #initialize an rows * rows DataFrame, fill with zeros \n",
    "    output_df = pd.DataFrame(0, index = np.arange(0, rows), columns = np.arange(rows))\n",
    "    \n",
    "    #loop over every row\n",
    "    for index, row in tqdm(df.iterrows()):\n",
    "        #loop that row over every other row\n",
    "        for n in tqdm(range(rows)):\n",
    "            #compute similarity index using helper function\n",
    "            output_df.iloc[index - 1, n] = SimilarityIndex(df.iloc[index - 1,:], df.iloc[n,:])\n",
    "    return output_df\n",
    "```\n",
    "\n",
    "Ultimately, for a feature space of this magnitude, using a pairwise cosine similarity algorithm proved multiple orders of magnitude faster - the function below provided an identical 0-to-1 feature similarity output in seconds instead of hours."
   ]
  },
  {
   "cell_type": "markdown",
   "metadata": {},
   "source": [
    "Here is the method by which we built a recommendation model using cosine similarity.\n",
    "\n",
    "```Python\n",
    "#import needed module\n",
    "from sklearn.metrics.pairwise import cosine_similarity\n",
    "\n",
    "def CleanDiagonal(df):\n",
    "    '''\n",
    "    Sets the diagonal of a DataFrame to 0.\n",
    "    Returns the DataFrame.\n",
    "    '''\n",
    "    rows, cols = df.shape\n",
    "    #print(rows)\n",
    "    for r in range(rows):\n",
    "        df[r, r] = 0\n",
    "    return df\n",
    "\n",
    "#set similarity values of a movie to itself to 0\n",
    "#this will prevent a movie from returning itself as a recommendation\n",
    "genre_year_matrix = CleanDiagonal(cos_genre_matrix)\n",
    "```"
   ]
  },
  {
   "cell_type": "markdown",
   "metadata": {},
   "source": [
    "We created matrices that represent both the user-by-user ratings and then rating similarity for a given film.  The user-by-user rating matrix can be used to find similar users either using cosine similarity or by using KNN or another clustering algorithm."
   ]
  },
  {
   "cell_type": "markdown",
   "metadata": {},
   "source": [
    "```Python\n",
    "def MakeRatingMatrix(df, total_films):\n",
    "    '''\n",
    "    Accepts a DataFrame with a user_id, a movie_id, and a rating for the film.\n",
    "    Outputs a DataFrame with row indices matching user_id and column indices matching film_id\n",
    "    '''\n",
    "    #extract dimensionality from input DataFrame\n",
    "    num_rows = df.user_id.max()\n",
    "    num_cols = total_films\n",
    "    df_len = df.shape[0]\n",
    "    user_idx = 0\n",
    "    movie_idx = 1\n",
    "    rating_idx = 2\n",
    "    #initialize output DataFrame\n",
    "    output = pd.DataFrame(0, index=range(num_rows + 1), columns=range(num_cols + 1))\n",
    "    \n",
    "    #iterate over input DataFrame, filling in values for each rating\n",
    "    for i in range(df_len):\n",
    "        try:\n",
    "            output_x = df.iloc[i,user_idx]\n",
    "            output_y = df.iloc[i,movie_idx]\n",
    "            output.iloc[output_x, output_y] = df.iloc[i,rating_idx]\n",
    "        except:\n",
    "            print(\"error at i {0}\".format(i))\n",
    "            break\n",
    "    return output\n",
    "\n",
    "user_ratings_matrix = MakeRatingMatrix(ratings, movies.movie_id.max())\n",
    "\n",
    "from sklearn.metrics.pairwise import cosine_similarity\n",
    "\n",
    "user_similarity_by_review = cosine_similarity(user_ratings_matrix, dense_output=True)\n",
    "film_similarity_by_review = cosine_similarity(user_ratings_matrix.T, dense_output=True)\n",
    "```"
   ]
  },
  {
   "cell_type": "markdown",
   "metadata": {},
   "source": [
    "It is also possible to find the similarity of two movies by feature using a KNN clustering model.  At its essence, this model space is defined along one set of axes by genre similarity and along another axis by year similarity.\n",
    "\n",
    "```Python\n",
    "from sklearn.neighbors import NearestNeighbors\n",
    "\n",
    "def NeighborFit(df, n_neighbors = 5, radius = 1, algorithm = 'auto'):\n",
    "    '''\n",
    "    Accepts a DataFrame of indicator variables.\n",
    "    \n",
    "    Returns a NearestNeighbors model.\n",
    "    '''\n",
    "    model = NearestNeighbors(n_neighbors = n_neighbors, radius = radius, algorithm = algorithm)\n",
    "    model.fit(df)\n",
    "    return model\n",
    "\n",
    "def NeighborLocate(model, input_array, n_neighbors = 5):\n",
    "    '''\n",
    "    Accepts a model and a Series or DataFrame of identical format to that used to build the model.\n",
    "    \n",
    "    Returns the distances and index values of the n_neighbors closest to the row(s) of the Series or DataFrame.\n",
    "    '''\n",
    "    \n",
    "    #test to see if the input_array is two-dimensional\n",
    "    try:\n",
    "        x,y = input_array.shape\n",
    "        \n",
    "    except:\n",
    "        #Series processing\n",
    "        distances, indices = model.kneighbors(input_array.values.reshape(1, -1), n_neighbors = n_neighbors)\n",
    "        return distances, indices\n",
    "    \n",
    "    #DataFrame processing \n",
    "    distances, indices = model.kneighbors(input_array, n_neighbors = n_neighbors)\n",
    "    return distances, indices\n",
    "```"
   ]
  },
  {
   "cell_type": "markdown",
   "metadata": {},
   "source": [
    "While the recommendation model built using cosine similarity performed reasonably well according to an eye test, the eye test doesn't hold much rigor.  We finally settled on using the Surprise module so as to take advantage of its native model-scoring features."
   ]
  },
  {
   "cell_type": "code",
   "execution_count": 172,
   "metadata": {},
   "outputs": [],
   "source": [
    "#bring in the imports!\n",
    "from surprise import Reader\n",
    "from surprise import Dataset\n",
    "from surprise.model_selection import cross_validate\n",
    "from surprise import NormalPredictor\n",
    "from surprise import KNNBasic\n",
    "from surprise import KNNWithMeans\n",
    "from surprise import KNNWithZScore\n",
    "from surprise import KNNBaseline\n",
    "from surprise import SVD\n",
    "from surprise import BaselineOnly\n",
    "from surprise import SVDpp\n",
    "from surprise import NMF\n",
    "from surprise import SlopeOne\n",
    "from surprise import CoClustering\n",
    "from surprise.accuracy import rmse\n",
    "from surprise import accuracy\n",
    "from surprise.model_selection import train_test_split"
   ]
  },
  {
   "cell_type": "code",
   "execution_count": 173,
   "metadata": {},
   "outputs": [],
   "source": [
    "#initialize dataset\n",
    "reader = Reader(rating_scale=(1, 5))\n",
    "data = Dataset.load_from_df(ratings[['user_id', 'movie_id', 'rating']], reader)"
   ]
  },
  {
   "cell_type": "markdown",
   "metadata": {},
   "source": [
    "With a wide variety of modelling tools now imported and available, we throw the proverbial kitchen sink at our review dataset to see which model(s) perform best.  Of course, this process will take quite a bit of time."
   ]
  },
  {
   "cell_type": "code",
   "execution_count": null,
   "metadata": {},
   "outputs": [
    {
     "data": {
      "application/vnd.jupyter.widget-view+json": {
       "model_id": "4513272dbaab43ab8608bbab7f1bd054",
       "version_major": 2,
       "version_minor": 0
      },
      "text/plain": [
       "HBox(children=(IntProgress(value=0, max=11), HTML(value='')))"
      ]
     },
     "metadata": {},
     "output_type": "display_data"
    }
   ],
   "source": [
    "benchmark = []\n",
    "# Iterate over all algorithms\n",
    "for algorithm in tqdm_notebook([SVD(), SVDpp(), SlopeOne(), NMF(), NormalPredictor(), KNNBaseline(), KNNBasic(), KNNWithMeans(), KNNWithZScore(), BaselineOnly(), CoClustering()]):\n",
    "    # Perform cross validation\n",
    "    results = cross_validate(algorithm, data, measures=['RMSE'], cv=3, verbose=False)\n",
    "    \n",
    "    # Get results & append algorithm name\n",
    "    tmp = pd.DataFrame.from_dict(results).mean(axis=0)\n",
    "    tmp = tmp.append(pd.Series([str(algorithm).split(' ')[0].split('.')[-1]], index=['Algorithm']))\n",
    "    benchmark.append(tmp)"
   ]
  },
  {
   "cell_type": "code",
   "execution_count": null,
   "metadata": {},
   "outputs": [],
   "source": [
    "surprise_results = pd.DataFrame(benchmark).set_index('Algorithm').sort_values('test_rmse')"
   ]
  },
  {
   "cell_type": "code",
   "execution_count": null,
   "metadata": {},
   "outputs": [],
   "source": [
    "surprise_results"
   ]
  }
 ],
 "metadata": {
  "kernelspec": {
   "display_name": "Python 3",
   "language": "python",
   "name": "python3"
  },
  "language_info": {
   "codemirror_mode": {
    "name": "ipython",
    "version": 3
   },
   "file_extension": ".py",
   "mimetype": "text/x-python",
   "name": "python",
   "nbconvert_exporter": "python",
   "pygments_lexer": "ipython3",
   "version": "3.7.3"
  }
 },
 "nbformat": 4,
 "nbformat_minor": 2
}
