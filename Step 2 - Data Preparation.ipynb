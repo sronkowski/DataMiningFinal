{
 "cells": [
  {
   "cell_type": "markdown",
   "metadata": {},
   "source": [
    "# Data Preparation\n",
    "\n",
    "## MovieLens Data\n",
    "\n",
    "With the data now formatted, read the CSV files back into Pandas."
   ]
  },
  {
   "cell_type": "code",
   "execution_count": 2,
   "metadata": {},
   "outputs": [],
   "source": [
    "import pandas as pd\n",
    "import numpy as np\n",
    "import matplotlib.pyplot as plt\n",
    "\n",
    "# Reading ratings file\n",
    "# Ignore the timestamp column\n",
    "ratings = pd.read_csv('ratings.csv', encoding='latin-1', usecols=['user_id', 'movie_id', 'rating'])\n",
    "\n",
    "# Reading users file\n",
    "users = pd.read_csv('users.csv', sep='\\t',encoding='latin-1', usecols=['user_id', 'gender', 'zipcode', 'age_desc', 'occ_desc'])\n",
    "\n",
    "# Reading movies file\n",
    "movies = pd.read_csv('movies.csv', sep='\\t',encoding='latin-1', usecols=['movie_id', 'title', 'genres'])"
   ]
  },
  {
   "cell_type": "markdown",
   "metadata": {},
   "source": [
    "### Feature Alignment\n",
    "\n",
    "Review the head of the ratings dataset."
   ]
  },
  {
   "cell_type": "code",
   "execution_count": 3,
   "metadata": {},
   "outputs": [
    {
     "data": {
      "text/html": [
       "<div>\n",
       "<style scoped>\n",
       "    .dataframe tbody tr th:only-of-type {\n",
       "        vertical-align: middle;\n",
       "    }\n",
       "\n",
       "    .dataframe tbody tr th {\n",
       "        vertical-align: top;\n",
       "    }\n",
       "\n",
       "    .dataframe thead th {\n",
       "        text-align: right;\n",
       "    }\n",
       "</style>\n",
       "<table border=\"1\" class=\"dataframe\">\n",
       "  <thead>\n",
       "    <tr style=\"text-align: right;\">\n",
       "      <th></th>\n",
       "      <th>user_id</th>\n",
       "      <th>movie_id</th>\n",
       "      <th>rating</th>\n",
       "    </tr>\n",
       "  </thead>\n",
       "  <tbody>\n",
       "    <tr>\n",
       "      <th>0</th>\n",
       "      <td>1</td>\n",
       "      <td>1193</td>\n",
       "      <td>5</td>\n",
       "    </tr>\n",
       "    <tr>\n",
       "      <th>1</th>\n",
       "      <td>1</td>\n",
       "      <td>661</td>\n",
       "      <td>3</td>\n",
       "    </tr>\n",
       "    <tr>\n",
       "      <th>2</th>\n",
       "      <td>1</td>\n",
       "      <td>914</td>\n",
       "      <td>3</td>\n",
       "    </tr>\n",
       "    <tr>\n",
       "      <th>3</th>\n",
       "      <td>1</td>\n",
       "      <td>3408</td>\n",
       "      <td>4</td>\n",
       "    </tr>\n",
       "    <tr>\n",
       "      <th>4</th>\n",
       "      <td>1</td>\n",
       "      <td>2355</td>\n",
       "      <td>5</td>\n",
       "    </tr>\n",
       "  </tbody>\n",
       "</table>\n",
       "</div>"
      ],
      "text/plain": [
       "   user_id  movie_id  rating\n",
       "0        1      1193       5\n",
       "1        1       661       3\n",
       "2        1       914       3\n",
       "3        1      3408       4\n",
       "4        1      2355       5"
      ]
     },
     "execution_count": 3,
     "metadata": {},
     "output_type": "execute_result"
    }
   ],
   "source": [
    "ratings.head()"
   ]
  },
  {
   "cell_type": "code",
   "execution_count": 4,
   "metadata": {},
   "outputs": [
    {
     "data": {
      "text/plain": [
       "True"
      ]
     },
     "execution_count": 4,
     "metadata": {},
     "output_type": "execute_result"
    }
   ],
   "source": [
    "#note that film_ids are 1-indexed\n",
    "ratings.user_id.min() == ratings.movie_id.min() == movies.movie_id.min() == 1"
   ]
  },
  {
   "cell_type": "markdown",
   "metadata": {},
   "source": [
    "Since the user ID and the film ID are currently indexed at 1, we reduce the values by 1 to make the data features 0-indexed - this will allow us to analyze the data and use row index as a proxy for the index value in the underlying dataset."
   ]
  },
  {
   "cell_type": "code",
   "execution_count": 5,
   "metadata": {},
   "outputs": [],
   "source": [
    "#reindex user_id so that it is zero-indexed\n",
    "ratings['user_id'] = ratings.user_id - 1\n",
    "\n",
    "#reindex film_id for same reason\n",
    "ratings['movie_id'] = ratings.movie_id - 1\n",
    "movies['movie_id'] = movies.movie_id - 1"
   ]
  },
  {
   "cell_type": "code",
   "execution_count": 6,
   "metadata": {},
   "outputs": [
    {
     "data": {
      "text/plain": [
       "True"
      ]
     },
     "execution_count": 6,
     "metadata": {},
     "output_type": "execute_result"
    }
   ],
   "source": [
    "#confirm processing\n",
    "ratings.user_id.min() == ratings.movie_id.min() == movies.movie_id.min() == 0"
   ]
  },
  {
   "cell_type": "markdown",
   "metadata": {},
   "source": [
    "There are ratings for movies not contained within the movie database - we find and drop these values from the review database."
   ]
  },
  {
   "cell_type": "code",
   "execution_count": 7,
   "metadata": {},
   "outputs": [
    {
     "data": {
      "text/plain": [
       "(1000209, 3)"
      ]
     },
     "execution_count": 7,
     "metadata": {},
     "output_type": "execute_result"
    }
   ],
   "source": [
    "#check count\n",
    "ratings.shape"
   ]
  },
  {
   "cell_type": "code",
   "execution_count": 8,
   "metadata": {},
   "outputs": [
    {
     "data": {
      "application/vnd.jupyter.widget-view+json": {
       "model_id": "fdfd96efdcf2476289a0ffe380a54b27",
       "version_major": 2,
       "version_minor": 0
      },
      "text/plain": [
       "HBox(children=(IntProgress(value=1, bar_style='info', max=1), HTML(value='')))"
      ]
     },
     "metadata": {},
     "output_type": "display_data"
    },
    {
     "name": "stdout",
     "output_type": "stream",
     "text": [
      "\n"
     ]
    }
   ],
   "source": [
    "from tqdm import tqdm_notebook\n",
    "for index, movie_id in tqdm_notebook(enumerate(ratings.movie_id)):\n",
    "    if movie_id in movies.movie_id:\n",
    "        pass\n",
    "    else:\n",
    "        ratings.drop(index, inplace = True, axis = 0)   "
   ]
  },
  {
   "cell_type": "code",
   "execution_count": 9,
   "metadata": {},
   "outputs": [
    {
     "data": {
      "text/plain": [
       "(991384, 3)"
      ]
     },
     "execution_count": 9,
     "metadata": {},
     "output_type": "execute_result"
    }
   ],
   "source": [
    "#check count again\n",
    "ratings.shape"
   ]
  },
  {
   "cell_type": "markdown",
   "metadata": {},
   "source": [
    "Also, the movie IDs are not consecutive values - we adjust this by capturing the original index-value pairs of the movie database into a dictionary and using that dictionary to re-index the values in the reviews database.  This allows us to drop the ID columns and simply use the row index as the identifier in our future analysis."
   ]
  },
  {
   "cell_type": "code",
   "execution_count": 10,
   "metadata": {},
   "outputs": [
    {
     "data": {
      "text/plain": [
       "3878    3947\n",
       "3879    3948\n",
       "3880    3949\n",
       "3881    3950\n",
       "3882    3951\n",
       "Name: movie_id, dtype: int64"
      ]
     },
     "execution_count": 10,
     "metadata": {},
     "output_type": "execute_result"
    }
   ],
   "source": [
    "movies.movie_id.tail()"
   ]
  },
  {
   "cell_type": "code",
   "execution_count": 11,
   "metadata": {},
   "outputs": [],
   "source": [
    "def DatasetIndexExtract(dfcol):\n",
    "    '''\n",
    "    Accepts a column of a DataFrame.  Extracts the value and DataFrame index of that column,\n",
    "    returning a dictionary of {value: index} that can be used to transform the index of the dataset to\n",
    "    match the row indexing of the DataFrame.\n",
    "    '''\n",
    "    index_dict = {}\n",
    "    for index, value in enumerate(dfcol):\n",
    "        index_dict.update({value : index})\n",
    "    return index_dict"
   ]
  },
  {
   "cell_type": "code",
   "execution_count": 12,
   "metadata": {},
   "outputs": [
    {
     "data": {
      "application/vnd.jupyter.widget-view+json": {
       "model_id": "357d0502de16498cb8e971fe4da1524e",
       "version_major": 2,
       "version_minor": 0
      },
      "text/plain": [
       "HBox(children=(IntProgress(value=1, bar_style='info', max=1), HTML(value='')))"
      ]
     },
     "metadata": {},
     "output_type": "display_data"
    },
    {
     "data": {
      "text/plain": [
       "0/|/| 0/? [00:00<?, ?it/s]"
      ]
     },
     "execution_count": 12,
     "metadata": {},
     "output_type": "execute_result"
    }
   ],
   "source": [
    "#extract index_dict\n",
    "index_dict = DatasetIndexExtract(movies.movie_id)\n",
    "\n",
    "#apply over movies database\n",
    "tqdm_notebook(movies.movie_id.replace(to_replace = index_dict, value = None, inplace = True))"
   ]
  },
  {
   "cell_type": "code",
   "execution_count": 13,
   "metadata": {},
   "outputs": [
    {
     "data": {
      "text/plain": [
       "3878    3878\n",
       "3879    3879\n",
       "3880    3880\n",
       "3881    3881\n",
       "3882    3882\n",
       "Name: movie_id, dtype: int64"
      ]
     },
     "execution_count": 13,
     "metadata": {},
     "output_type": "execute_result"
    }
   ],
   "source": [
    "#confirm dataset indexing\n",
    "movies.movie_id.tail()"
   ]
  },
  {
   "cell_type": "markdown",
   "metadata": {},
   "source": [
    "With the movie ID transformed within the movies dataset, we apply the same transformation to the ratings index."
   ]
  },
  {
   "cell_type": "code",
   "execution_count": 14,
   "metadata": {},
   "outputs": [],
   "source": [
    "ratings.movie_id.replace(to_replace = index_dict, value = None, inplace = True)"
   ]
  },
  {
   "cell_type": "markdown",
   "metadata": {},
   "source": [
    "While we initially attempted to reindex the datasets using a helper function...\n",
    "\n",
    "```Python\n",
    "from tqdm import tqdm_notebook\n",
    "\n",
    "def DatasetReindex(dfcol,index_dict):\n",
    "    '''\n",
    "    Accepts a DataFrame column and a dictionary of {value:index} pairs.  Transforms the column\n",
    "    to match the indexing of the underlying DataFrame.\n",
    "    '''\n",
    "    for index, value in tqdm_notebook(enumerate(dfcol)):\n",
    "        try:\n",
    "            dfcol.iloc[index] = index_dict[value]\n",
    "        except:\n",
    "            print(\"error at index \", index)\n",
    "```\n",
    "...as always, the general principle of avoiding iterating over a Pandas DataFrame applied: the function above was estimating about 9hr to completion, whereas pd.DataFrame.replace completed the job in mere seconds.\n",
    "\n",
    "Once the process has efficiently completed, we confirm that the re-indexing has achieved its goal by passing through the movie IDs in the ratings database and verifying they are all present in the movies database.  Given that we need a verbose output and that no transformation of the variables is required, iterating over the DataFrame is a reasonable approach."
   ]
  },
  {
   "cell_type": "code",
   "execution_count": 15,
   "metadata": {},
   "outputs": [
    {
     "data": {
      "application/vnd.jupyter.widget-view+json": {
       "model_id": "c066f67d214d414c9105fddade1ad8d1",
       "version_major": 2,
       "version_minor": 0
      },
      "text/plain": [
       "HBox(children=(IntProgress(value=0, max=991384), HTML(value='')))"
      ]
     },
     "metadata": {},
     "output_type": "display_data"
    }
   ],
   "source": [
    "for movie_id in tqdm_notebook(ratings.movie_id):\n",
    "    if movie_id in movies.movie_id:\n",
    "        pass\n",
    "    else:\n",
    "        print(\"{0} not in movies database\".format(movie_id)) "
   ]
  },
  {
   "cell_type": "markdown",
   "metadata": {},
   "source": [
    "As hoped, no errors were generated.\n",
    "\n",
    "With the movies database now reindexed to align with the \"native\" indexing inherent to a Pandas DataFrame, we now transform the values for year and genre so that they can be machine processed."
   ]
  },
  {
   "cell_type": "code",
   "execution_count": 16,
   "metadata": {},
   "outputs": [
    {
     "data": {
      "text/html": [
       "<div>\n",
       "<style scoped>\n",
       "    .dataframe tbody tr th:only-of-type {\n",
       "        vertical-align: middle;\n",
       "    }\n",
       "\n",
       "    .dataframe tbody tr th {\n",
       "        vertical-align: top;\n",
       "    }\n",
       "\n",
       "    .dataframe thead th {\n",
       "        text-align: right;\n",
       "    }\n",
       "</style>\n",
       "<table border=\"1\" class=\"dataframe\">\n",
       "  <thead>\n",
       "    <tr style=\"text-align: right;\">\n",
       "      <th></th>\n",
       "      <th>movie_id</th>\n",
       "      <th>title</th>\n",
       "      <th>genres</th>\n",
       "    </tr>\n",
       "  </thead>\n",
       "  <tbody>\n",
       "    <tr>\n",
       "      <th>0</th>\n",
       "      <td>0</td>\n",
       "      <td>Toy Story (1995)</td>\n",
       "      <td>Animation|Children's|Comedy</td>\n",
       "    </tr>\n",
       "    <tr>\n",
       "      <th>1</th>\n",
       "      <td>1</td>\n",
       "      <td>Jumanji (1995)</td>\n",
       "      <td>Adventure|Children's|Fantasy</td>\n",
       "    </tr>\n",
       "    <tr>\n",
       "      <th>2</th>\n",
       "      <td>2</td>\n",
       "      <td>Grumpier Old Men (1995)</td>\n",
       "      <td>Comedy|Romance</td>\n",
       "    </tr>\n",
       "    <tr>\n",
       "      <th>3</th>\n",
       "      <td>3</td>\n",
       "      <td>Waiting to Exhale (1995)</td>\n",
       "      <td>Comedy|Drama</td>\n",
       "    </tr>\n",
       "    <tr>\n",
       "      <th>4</th>\n",
       "      <td>4</td>\n",
       "      <td>Father of the Bride Part II (1995)</td>\n",
       "      <td>Comedy</td>\n",
       "    </tr>\n",
       "  </tbody>\n",
       "</table>\n",
       "</div>"
      ],
      "text/plain": [
       "   movie_id                               title                        genres\n",
       "0         0                    Toy Story (1995)   Animation|Children's|Comedy\n",
       "1         1                      Jumanji (1995)  Adventure|Children's|Fantasy\n",
       "2         2             Grumpier Old Men (1995)                Comedy|Romance\n",
       "3         3            Waiting to Exhale (1995)                  Comedy|Drama\n",
       "4         4  Father of the Bride Part II (1995)                        Comedy"
      ]
     },
     "execution_count": 16,
     "metadata": {},
     "output_type": "execute_result"
    }
   ],
   "source": [
    "#review current format\n",
    "movies.head()"
   ]
  },
  {
   "cell_type": "markdown",
   "metadata": {},
   "source": [
    "We create a series of indicator variables for each genre present in the current column."
   ]
  },
  {
   "cell_type": "code",
   "execution_count": 17,
   "metadata": {},
   "outputs": [
    {
     "data": {
      "text/plain": [
       "(1603, 3)"
      ]
     },
     "execution_count": 17,
     "metadata": {},
     "output_type": "execute_result"
    }
   ],
   "source": [
    "#count number of genre references in original list for debugging\n",
    "movies[movies.genres.str.contains(\"Drama\")].shape"
   ]
  },
  {
   "cell_type": "code",
   "execution_count": 18,
   "metadata": {},
   "outputs": [],
   "source": [
    "#separate genre values by row, format as a list, and save into DF column\n",
    "movies['genre_list'] = movies['genres'].str.split('|').values  \n",
    "\n",
    "#build indicator variables from list values\n",
    "movies['is_drama'] = movies.genre_list.apply(lambda x: 1 if 'Drama' in x else 0)\n",
    "movies['is_comedy'] = movies.genre_list.apply(lambda x: 1 if 'Comedy' in x else 0)\n",
    "movies['is_action'] = movies.genre_list.apply(lambda x: 1 if 'Action' in x else 0)\n",
    "movies['is_thriller'] = movies.genre_list.apply(lambda x: 1 if 'Thriller' in x else 0)\n",
    "movies['is_romance'] = movies.genre_list.apply(lambda x: 1 if 'Romance' in x else 0)\n",
    "movies['is_horror'] = movies.genre_list.apply(lambda x: 1 if 'Horror' in x else 0)\n",
    "movies['is_adventure'] = movies.genre_list.apply(lambda x: 1 if 'Adventure' in x else 0)\n",
    "movies['is_scifi'] = movies.genre_list.apply(lambda x: 1 if 'Sci-Fi' in x else 0)\n",
    "movies['is_childrens'] = movies.genre_list.apply(lambda x: 1 if \"Children's\" in x else 0)\n",
    "movies['is_crime'] = movies.genre_list.apply(lambda x: 1 if 'Crime' in x else 0)\n",
    "movies['is_war'] = movies.genre_list.apply(lambda x: 1 if 'War' in x else 0)\n",
    "movies['is_documentary'] = movies.genre_list.apply(lambda x: 1 if \"Documentary\" in x else 0)\n",
    "movies['is_musical'] = movies.genre_list.apply(lambda x: 1 if 'Musical' in x else 0)\n",
    "movies['is_mystery'] = movies.genre_list.apply(lambda x: 1 if 'Mystery' in x else 0)\n",
    "movies['is_animation'] = movies.genre_list.apply(lambda x: 1 if \"Animation\" in x else 0)\n",
    "movies['is_fantasy'] = movies.genre_list.apply(lambda x: 1 if 'Fantasy' in x else 0)\n",
    "movies['is_western'] = movies.genre_list.apply(lambda x: 1 if 'Western' in x else 0)\n",
    "movies['is_filmnoir'] = movies.genre_list.apply(lambda x: 1 if \"Film-Noir\" in x else 0)\n",
    "\n",
    "#drop the column containing lists of genres\n",
    "movies.drop('genre_list', inplace = True, axis = 1)\n",
    "movies.drop('genres', inplace = True, axis = 1)"
   ]
  },
  {
   "cell_type": "code",
   "execution_count": 19,
   "metadata": {},
   "outputs": [
    {
     "data": {
      "text/plain": [
       "1603"
      ]
     },
     "execution_count": 19,
     "metadata": {},
     "output_type": "execute_result"
    }
   ],
   "source": [
    "#confirm processing - is_drama should be same count as before\n",
    "movies.is_drama.sum()"
   ]
  },
  {
   "cell_type": "code",
   "execution_count": 20,
   "metadata": {},
   "outputs": [
    {
     "data": {
      "text/html": [
       "<div>\n",
       "<style scoped>\n",
       "    .dataframe tbody tr th:only-of-type {\n",
       "        vertical-align: middle;\n",
       "    }\n",
       "\n",
       "    .dataframe tbody tr th {\n",
       "        vertical-align: top;\n",
       "    }\n",
       "\n",
       "    .dataframe thead th {\n",
       "        text-align: right;\n",
       "    }\n",
       "</style>\n",
       "<table border=\"1\" class=\"dataframe\">\n",
       "  <thead>\n",
       "    <tr style=\"text-align: right;\">\n",
       "      <th></th>\n",
       "      <th>movie_id</th>\n",
       "      <th>title</th>\n",
       "      <th>is_drama</th>\n",
       "      <th>is_comedy</th>\n",
       "      <th>is_action</th>\n",
       "      <th>is_thriller</th>\n",
       "      <th>is_romance</th>\n",
       "      <th>is_horror</th>\n",
       "      <th>is_adventure</th>\n",
       "      <th>is_scifi</th>\n",
       "      <th>is_childrens</th>\n",
       "      <th>is_crime</th>\n",
       "      <th>is_war</th>\n",
       "      <th>is_documentary</th>\n",
       "      <th>is_musical</th>\n",
       "      <th>is_mystery</th>\n",
       "      <th>is_animation</th>\n",
       "      <th>is_fantasy</th>\n",
       "      <th>is_western</th>\n",
       "      <th>is_filmnoir</th>\n",
       "    </tr>\n",
       "  </thead>\n",
       "  <tbody>\n",
       "    <tr>\n",
       "      <th>0</th>\n",
       "      <td>0</td>\n",
       "      <td>Toy Story (1995)</td>\n",
       "      <td>0</td>\n",
       "      <td>1</td>\n",
       "      <td>0</td>\n",
       "      <td>0</td>\n",
       "      <td>0</td>\n",
       "      <td>0</td>\n",
       "      <td>0</td>\n",
       "      <td>0</td>\n",
       "      <td>1</td>\n",
       "      <td>0</td>\n",
       "      <td>0</td>\n",
       "      <td>0</td>\n",
       "      <td>0</td>\n",
       "      <td>0</td>\n",
       "      <td>1</td>\n",
       "      <td>0</td>\n",
       "      <td>0</td>\n",
       "      <td>0</td>\n",
       "    </tr>\n",
       "    <tr>\n",
       "      <th>1</th>\n",
       "      <td>1</td>\n",
       "      <td>Jumanji (1995)</td>\n",
       "      <td>0</td>\n",
       "      <td>0</td>\n",
       "      <td>0</td>\n",
       "      <td>0</td>\n",
       "      <td>0</td>\n",
       "      <td>0</td>\n",
       "      <td>1</td>\n",
       "      <td>0</td>\n",
       "      <td>1</td>\n",
       "      <td>0</td>\n",
       "      <td>0</td>\n",
       "      <td>0</td>\n",
       "      <td>0</td>\n",
       "      <td>0</td>\n",
       "      <td>0</td>\n",
       "      <td>1</td>\n",
       "      <td>0</td>\n",
       "      <td>0</td>\n",
       "    </tr>\n",
       "    <tr>\n",
       "      <th>2</th>\n",
       "      <td>2</td>\n",
       "      <td>Grumpier Old Men (1995)</td>\n",
       "      <td>0</td>\n",
       "      <td>1</td>\n",
       "      <td>0</td>\n",
       "      <td>0</td>\n",
       "      <td>1</td>\n",
       "      <td>0</td>\n",
       "      <td>0</td>\n",
       "      <td>0</td>\n",
       "      <td>0</td>\n",
       "      <td>0</td>\n",
       "      <td>0</td>\n",
       "      <td>0</td>\n",
       "      <td>0</td>\n",
       "      <td>0</td>\n",
       "      <td>0</td>\n",
       "      <td>0</td>\n",
       "      <td>0</td>\n",
       "      <td>0</td>\n",
       "    </tr>\n",
       "    <tr>\n",
       "      <th>3</th>\n",
       "      <td>3</td>\n",
       "      <td>Waiting to Exhale (1995)</td>\n",
       "      <td>1</td>\n",
       "      <td>1</td>\n",
       "      <td>0</td>\n",
       "      <td>0</td>\n",
       "      <td>0</td>\n",
       "      <td>0</td>\n",
       "      <td>0</td>\n",
       "      <td>0</td>\n",
       "      <td>0</td>\n",
       "      <td>0</td>\n",
       "      <td>0</td>\n",
       "      <td>0</td>\n",
       "      <td>0</td>\n",
       "      <td>0</td>\n",
       "      <td>0</td>\n",
       "      <td>0</td>\n",
       "      <td>0</td>\n",
       "      <td>0</td>\n",
       "    </tr>\n",
       "    <tr>\n",
       "      <th>4</th>\n",
       "      <td>4</td>\n",
       "      <td>Father of the Bride Part II (1995)</td>\n",
       "      <td>0</td>\n",
       "      <td>1</td>\n",
       "      <td>0</td>\n",
       "      <td>0</td>\n",
       "      <td>0</td>\n",
       "      <td>0</td>\n",
       "      <td>0</td>\n",
       "      <td>0</td>\n",
       "      <td>0</td>\n",
       "      <td>0</td>\n",
       "      <td>0</td>\n",
       "      <td>0</td>\n",
       "      <td>0</td>\n",
       "      <td>0</td>\n",
       "      <td>0</td>\n",
       "      <td>0</td>\n",
       "      <td>0</td>\n",
       "      <td>0</td>\n",
       "    </tr>\n",
       "  </tbody>\n",
       "</table>\n",
       "</div>"
      ],
      "text/plain": [
       "   movie_id                               title  is_drama  is_comedy  \\\n",
       "0         0                    Toy Story (1995)         0          1   \n",
       "1         1                      Jumanji (1995)         0          0   \n",
       "2         2             Grumpier Old Men (1995)         0          1   \n",
       "3         3            Waiting to Exhale (1995)         1          1   \n",
       "4         4  Father of the Bride Part II (1995)         0          1   \n",
       "\n",
       "   is_action  is_thriller  is_romance  is_horror  is_adventure  is_scifi  \\\n",
       "0          0            0           0          0             0         0   \n",
       "1          0            0           0          0             1         0   \n",
       "2          0            0           1          0             0         0   \n",
       "3          0            0           0          0             0         0   \n",
       "4          0            0           0          0             0         0   \n",
       "\n",
       "   is_childrens  is_crime  is_war  is_documentary  is_musical  is_mystery  \\\n",
       "0             1         0       0               0           0           0   \n",
       "1             1         0       0               0           0           0   \n",
       "2             0         0       0               0           0           0   \n",
       "3             0         0       0               0           0           0   \n",
       "4             0         0       0               0           0           0   \n",
       "\n",
       "   is_animation  is_fantasy  is_western  is_filmnoir  \n",
       "0             1           0           0            0  \n",
       "1             0           1           0            0  \n",
       "2             0           0           0            0  \n",
       "3             0           0           0            0  \n",
       "4             0           0           0            0  "
      ]
     },
     "execution_count": 20,
     "metadata": {},
     "output_type": "execute_result"
    }
   ],
   "source": [
    "#review transformed data\n",
    "movies.head()"
   ]
  },
  {
   "cell_type": "markdown",
   "metadata": {},
   "source": [
    "With the genres now extracted, we pull out the year values from the movie title and place it into a seperate column."
   ]
  },
  {
   "cell_type": "code",
   "execution_count": 21,
   "metadata": {},
   "outputs": [
    {
     "name": "stderr",
     "output_type": "stream",
     "text": [
      "C:\\Users\\cahib\\Anaconda3\\lib\\site-packages\\pandas\\core\\indexing.py:190: SettingWithCopyWarning: \n",
      "A value is trying to be set on a copy of a slice from a DataFrame\n",
      "\n",
      "See the caveats in the documentation: http://pandas.pydata.org/pandas-docs/stable/indexing.html#indexing-view-versus-copy\n",
      "  self._setitem_with_indexer(indexer, value)\n"
     ]
    }
   ],
   "source": [
    "import re\n",
    "\n",
    "#create temporary column holding list of every space-separated word in title\n",
    "movies['year_extraction'] = movies.title.str.split()\n",
    "\n",
    "#initalize and apply function to strip () from year\n",
    "table = str.maketrans(dict.fromkeys(\"()\"))\n",
    "movies['year'] = movies.year_extraction.apply(lambda x: x[-1].translate(table))\n",
    "\n",
    "#there is one movie with a set of () at the end of the title - manually correct year value\n",
    "movies.year.loc[movies.year == \"L'Associe1982\"] = 1982\n",
    "\n",
    "#drop temporary column\n",
    "movies.drop('year_extraction', inplace = True, axis = 1)\n",
    "\n",
    "#remove year data from movie name\n",
    "movies['title'] = movies.title.apply(lambda x: re.sub(r'\\(.*\\)', '', x))\n",
    "\n",
    "#strip trailing space left after year values removed\n",
    "movies['title'] = movies.title.apply(lambda x: x.strip())"
   ]
  },
  {
   "cell_type": "code",
   "execution_count": 22,
   "metadata": {},
   "outputs": [
    {
     "data": {
      "text/html": [
       "<div>\n",
       "<style scoped>\n",
       "    .dataframe tbody tr th:only-of-type {\n",
       "        vertical-align: middle;\n",
       "    }\n",
       "\n",
       "    .dataframe tbody tr th {\n",
       "        vertical-align: top;\n",
       "    }\n",
       "\n",
       "    .dataframe thead th {\n",
       "        text-align: right;\n",
       "    }\n",
       "</style>\n",
       "<table border=\"1\" class=\"dataframe\">\n",
       "  <thead>\n",
       "    <tr style=\"text-align: right;\">\n",
       "      <th></th>\n",
       "      <th>movie_id</th>\n",
       "      <th>title</th>\n",
       "      <th>is_drama</th>\n",
       "      <th>is_comedy</th>\n",
       "      <th>is_action</th>\n",
       "      <th>is_thriller</th>\n",
       "      <th>is_romance</th>\n",
       "      <th>is_horror</th>\n",
       "      <th>is_adventure</th>\n",
       "      <th>is_scifi</th>\n",
       "      <th>...</th>\n",
       "      <th>is_crime</th>\n",
       "      <th>is_war</th>\n",
       "      <th>is_documentary</th>\n",
       "      <th>is_musical</th>\n",
       "      <th>is_mystery</th>\n",
       "      <th>is_animation</th>\n",
       "      <th>is_fantasy</th>\n",
       "      <th>is_western</th>\n",
       "      <th>is_filmnoir</th>\n",
       "      <th>year</th>\n",
       "    </tr>\n",
       "  </thead>\n",
       "  <tbody>\n",
       "    <tr>\n",
       "      <th>0</th>\n",
       "      <td>0</td>\n",
       "      <td>Toy Story</td>\n",
       "      <td>0</td>\n",
       "      <td>1</td>\n",
       "      <td>0</td>\n",
       "      <td>0</td>\n",
       "      <td>0</td>\n",
       "      <td>0</td>\n",
       "      <td>0</td>\n",
       "      <td>0</td>\n",
       "      <td>...</td>\n",
       "      <td>0</td>\n",
       "      <td>0</td>\n",
       "      <td>0</td>\n",
       "      <td>0</td>\n",
       "      <td>0</td>\n",
       "      <td>1</td>\n",
       "      <td>0</td>\n",
       "      <td>0</td>\n",
       "      <td>0</td>\n",
       "      <td>1995</td>\n",
       "    </tr>\n",
       "    <tr>\n",
       "      <th>1</th>\n",
       "      <td>1</td>\n",
       "      <td>Jumanji</td>\n",
       "      <td>0</td>\n",
       "      <td>0</td>\n",
       "      <td>0</td>\n",
       "      <td>0</td>\n",
       "      <td>0</td>\n",
       "      <td>0</td>\n",
       "      <td>1</td>\n",
       "      <td>0</td>\n",
       "      <td>...</td>\n",
       "      <td>0</td>\n",
       "      <td>0</td>\n",
       "      <td>0</td>\n",
       "      <td>0</td>\n",
       "      <td>0</td>\n",
       "      <td>0</td>\n",
       "      <td>1</td>\n",
       "      <td>0</td>\n",
       "      <td>0</td>\n",
       "      <td>1995</td>\n",
       "    </tr>\n",
       "    <tr>\n",
       "      <th>2</th>\n",
       "      <td>2</td>\n",
       "      <td>Grumpier Old Men</td>\n",
       "      <td>0</td>\n",
       "      <td>1</td>\n",
       "      <td>0</td>\n",
       "      <td>0</td>\n",
       "      <td>1</td>\n",
       "      <td>0</td>\n",
       "      <td>0</td>\n",
       "      <td>0</td>\n",
       "      <td>...</td>\n",
       "      <td>0</td>\n",
       "      <td>0</td>\n",
       "      <td>0</td>\n",
       "      <td>0</td>\n",
       "      <td>0</td>\n",
       "      <td>0</td>\n",
       "      <td>0</td>\n",
       "      <td>0</td>\n",
       "      <td>0</td>\n",
       "      <td>1995</td>\n",
       "    </tr>\n",
       "    <tr>\n",
       "      <th>3</th>\n",
       "      <td>3</td>\n",
       "      <td>Waiting to Exhale</td>\n",
       "      <td>1</td>\n",
       "      <td>1</td>\n",
       "      <td>0</td>\n",
       "      <td>0</td>\n",
       "      <td>0</td>\n",
       "      <td>0</td>\n",
       "      <td>0</td>\n",
       "      <td>0</td>\n",
       "      <td>...</td>\n",
       "      <td>0</td>\n",
       "      <td>0</td>\n",
       "      <td>0</td>\n",
       "      <td>0</td>\n",
       "      <td>0</td>\n",
       "      <td>0</td>\n",
       "      <td>0</td>\n",
       "      <td>0</td>\n",
       "      <td>0</td>\n",
       "      <td>1995</td>\n",
       "    </tr>\n",
       "    <tr>\n",
       "      <th>4</th>\n",
       "      <td>4</td>\n",
       "      <td>Father of the Bride Part II</td>\n",
       "      <td>0</td>\n",
       "      <td>1</td>\n",
       "      <td>0</td>\n",
       "      <td>0</td>\n",
       "      <td>0</td>\n",
       "      <td>0</td>\n",
       "      <td>0</td>\n",
       "      <td>0</td>\n",
       "      <td>...</td>\n",
       "      <td>0</td>\n",
       "      <td>0</td>\n",
       "      <td>0</td>\n",
       "      <td>0</td>\n",
       "      <td>0</td>\n",
       "      <td>0</td>\n",
       "      <td>0</td>\n",
       "      <td>0</td>\n",
       "      <td>0</td>\n",
       "      <td>1995</td>\n",
       "    </tr>\n",
       "  </tbody>\n",
       "</table>\n",
       "<p>5 rows × 21 columns</p>\n",
       "</div>"
      ],
      "text/plain": [
       "   movie_id                        title  is_drama  is_comedy  is_action  \\\n",
       "0         0                    Toy Story         0          1          0   \n",
       "1         1                      Jumanji         0          0          0   \n",
       "2         2             Grumpier Old Men         0          1          0   \n",
       "3         3            Waiting to Exhale         1          1          0   \n",
       "4         4  Father of the Bride Part II         0          1          0   \n",
       "\n",
       "   is_thriller  is_romance  is_horror  is_adventure  is_scifi  ...  is_crime  \\\n",
       "0            0           0          0             0         0  ...         0   \n",
       "1            0           0          0             1         0  ...         0   \n",
       "2            0           1          0             0         0  ...         0   \n",
       "3            0           0          0             0         0  ...         0   \n",
       "4            0           0          0             0         0  ...         0   \n",
       "\n",
       "   is_war  is_documentary  is_musical  is_mystery  is_animation  is_fantasy  \\\n",
       "0       0               0           0           0             1           0   \n",
       "1       0               0           0           0             0           1   \n",
       "2       0               0           0           0             0           0   \n",
       "3       0               0           0           0             0           0   \n",
       "4       0               0           0           0             0           0   \n",
       "\n",
       "   is_western  is_filmnoir  year  \n",
       "0           0            0  1995  \n",
       "1           0            0  1995  \n",
       "2           0            0  1995  \n",
       "3           0            0  1995  \n",
       "4           0            0  1995  \n",
       "\n",
       "[5 rows x 21 columns]"
      ]
     },
     "execution_count": 22,
     "metadata": {},
     "output_type": "execute_result"
    }
   ],
   "source": [
    "#confirm extraction\n",
    "movies.head()"
   ]
  },
  {
   "cell_type": "code",
   "execution_count": 23,
   "metadata": {},
   "outputs": [
    {
     "data": {
      "text/plain": [
       "count    3883.000000\n",
       "mean     1986.066959\n",
       "std        16.895690\n",
       "min      1919.000000\n",
       "25%      1982.000000\n",
       "50%      1994.000000\n",
       "75%      1997.000000\n",
       "max      2000.000000\n",
       "Name: year, dtype: float64"
      ]
     },
     "execution_count": 23,
     "metadata": {},
     "output_type": "execute_result"
    }
   ],
   "source": [
    "#convert year values from str to float\n",
    "movies['year'] = movies.year.astype(int)\n",
    "\n",
    "#review values\n",
    "movies.year.describe()"
   ]
  },
  {
   "cell_type": "markdown",
   "metadata": {},
   "source": [
    "We now turn our attention to the user data, and start by reviewing the data as currently formatted."
   ]
  },
  {
   "cell_type": "code",
   "execution_count": 34,
   "metadata": {},
   "outputs": [
    {
     "data": {
      "text/html": [
       "<div>\n",
       "<style scoped>\n",
       "    .dataframe tbody tr th:only-of-type {\n",
       "        vertical-align: middle;\n",
       "    }\n",
       "\n",
       "    .dataframe tbody tr th {\n",
       "        vertical-align: top;\n",
       "    }\n",
       "\n",
       "    .dataframe thead th {\n",
       "        text-align: right;\n",
       "    }\n",
       "</style>\n",
       "<table border=\"1\" class=\"dataframe\">\n",
       "  <thead>\n",
       "    <tr style=\"text-align: right;\">\n",
       "      <th></th>\n",
       "      <th>user_id</th>\n",
       "      <th>gender</th>\n",
       "      <th>zipcode</th>\n",
       "      <th>age_desc</th>\n",
       "      <th>occ_desc</th>\n",
       "    </tr>\n",
       "  </thead>\n",
       "  <tbody>\n",
       "    <tr>\n",
       "      <th>0</th>\n",
       "      <td>1</td>\n",
       "      <td>F</td>\n",
       "      <td>48067</td>\n",
       "      <td>Under 18</td>\n",
       "      <td>K-12 student</td>\n",
       "    </tr>\n",
       "    <tr>\n",
       "      <th>1</th>\n",
       "      <td>2</td>\n",
       "      <td>M</td>\n",
       "      <td>70072</td>\n",
       "      <td>56+</td>\n",
       "      <td>self-employed</td>\n",
       "    </tr>\n",
       "    <tr>\n",
       "      <th>2</th>\n",
       "      <td>3</td>\n",
       "      <td>M</td>\n",
       "      <td>55117</td>\n",
       "      <td>25-34</td>\n",
       "      <td>scientist</td>\n",
       "    </tr>\n",
       "    <tr>\n",
       "      <th>3</th>\n",
       "      <td>4</td>\n",
       "      <td>M</td>\n",
       "      <td>02460</td>\n",
       "      <td>45-49</td>\n",
       "      <td>executive/managerial</td>\n",
       "    </tr>\n",
       "    <tr>\n",
       "      <th>4</th>\n",
       "      <td>5</td>\n",
       "      <td>M</td>\n",
       "      <td>55455</td>\n",
       "      <td>25-34</td>\n",
       "      <td>writer</td>\n",
       "    </tr>\n",
       "  </tbody>\n",
       "</table>\n",
       "</div>"
      ],
      "text/plain": [
       "   user_id gender zipcode  age_desc              occ_desc\n",
       "0        1      F   48067  Under 18          K-12 student\n",
       "1        2      M   70072       56+         self-employed\n",
       "2        3      M   55117     25-34             scientist\n",
       "3        4      M   02460     45-49  executive/managerial\n",
       "4        5      M   55455     25-34                writer"
      ]
     },
     "execution_count": 34,
     "metadata": {},
     "output_type": "execute_result"
    }
   ],
   "source": [
    "#review users DF\n",
    "users.head()"
   ]
  },
  {
   "cell_type": "code",
   "execution_count": 35,
   "metadata": {},
   "outputs": [
    {
     "name": "stdout",
     "output_type": "stream",
     "text": [
      "<class 'pandas.core.frame.DataFrame'>\n",
      "RangeIndex: 6040 entries, 0 to 6039\n",
      "Data columns (total 5 columns):\n",
      "user_id     6040 non-null int64\n",
      "gender      6040 non-null object\n",
      "zipcode     6040 non-null object\n",
      "age_desc    6040 non-null object\n",
      "occ_desc    6040 non-null object\n",
      "dtypes: int64(1), object(4)\n",
      "memory usage: 236.0+ KB\n"
     ]
    }
   ],
   "source": [
    "#review data formatting\n",
    "users.info()"
   ]
  },
  {
   "cell_type": "code",
   "execution_count": 36,
   "metadata": {},
   "outputs": [
    {
     "data": {
      "text/plain": [
       "user_id     False\n",
       "gender      False\n",
       "zipcode     False\n",
       "age_desc    False\n",
       "occ_desc    False\n",
       "dtype: bool"
      ]
     },
     "execution_count": 36,
     "metadata": {},
     "output_type": "execute_result"
    }
   ],
   "source": [
    "#check for null values\n",
    "users.isnull().any()"
   ]
  },
  {
   "cell_type": "markdown",
   "metadata": {},
   "source": [
    "Again, since the user_id values are 1-indexed in the original dataset, we reindex to Python's native 0-index format by subtracting one from the current values."
   ]
  },
  {
   "cell_type": "code",
   "execution_count": 37,
   "metadata": {},
   "outputs": [
    {
     "data": {
      "text/plain": [
       "1"
      ]
     },
     "execution_count": 37,
     "metadata": {},
     "output_type": "execute_result"
    }
   ],
   "source": [
    "users.user_id.min()"
   ]
  },
  {
   "cell_type": "code",
   "execution_count": 28,
   "metadata": {},
   "outputs": [],
   "source": [
    "users['user_id'] = users.user_id - 1"
   ]
  },
  {
   "cell_type": "code",
   "execution_count": 38,
   "metadata": {},
   "outputs": [
    {
     "data": {
      "text/plain": [
       "1"
      ]
     },
     "execution_count": 38,
     "metadata": {},
     "output_type": "execute_result"
    }
   ],
   "source": [
    "users.user_id.min()"
   ]
  },
  {
   "cell_type": "markdown",
   "metadata": {},
   "source": [
    "With that basic transformation complete, we begin to engineer the features into a machine-readable format.  First, we will reclassify the gender values into two indicator variables."
   ]
  },
  {
   "cell_type": "code",
   "execution_count": 39,
   "metadata": {},
   "outputs": [],
   "source": [
    "# Classify gender\n",
    "gender_dummies = pd.get_dummies(users['gender'], prefix = \"is\")\n",
    "\n",
    "#drop gender col\n",
    "users.drop('gender', inplace = True, axis = 1)\n",
    "\n",
    "#add values in\n",
    "users = pd.concat([users, gender_dummies],axis = 1).copy()"
   ]
  },
  {
   "cell_type": "markdown",
   "metadata": {},
   "source": [
    "In a perfect world, we could get very granular with the location info, but given that we only have 6040 users in this dataset, we will reduce the ZIP code down to the first digit.  Since this first digit represents a given geographic region, we can use this feature to identify films that are more popular than average in a given region."
   ]
  },
  {
   "cell_type": "code",
   "execution_count": 40,
   "metadata": {},
   "outputs": [],
   "source": [
    "# Get region info from zipcode\n",
    "users['zip'] = users['zipcode'].astype(str).str[0]\n",
    "\n",
    "#drop zipcode col\n",
    "users.drop('zipcode', inplace = True, axis = 1)\n",
    "\n",
    "#create indicator variables\n",
    "zip_dummies = pd.get_dummies(users['zip'], prefix = \"zip\")\n",
    "\n",
    "#drop zip col\n",
    "users.drop('zip', inplace = True, axis = 1)"
   ]
  },
  {
   "cell_type": "code",
   "execution_count": null,
   "metadata": {},
   "outputs": [],
   "source": [
    "users = pd.concat([users, gender_dummies],axis = 1).copy()"
   ]
  },
  {
   "cell_type": "markdown",
   "metadata": {},
   "source": [
    "We now turn our attention to the age values.  The dataset conveniently already bundled the ages into nice demographic groupings, so we simply need to transform these values into indicator variables.  First, however, we will reparse these values to make them more Python-friendly."
   ]
  },
  {
   "cell_type": "code",
   "execution_count": null,
   "metadata": {},
   "outputs": [],
   "source": [
    "users.age_desc.unique()"
   ]
  },
  {
   "cell_type": "code",
   "execution_count": null,
   "metadata": {},
   "outputs": [],
   "source": [
    "age_dict = {'Under 18':'u18', '56+': '56plus', '25-34': '25_34', '45-49':'45_49', '50-55':'50_55', '35-44':'35_44', '18-24':'18_24'}"
   ]
  },
  {
   "cell_type": "code",
   "execution_count": null,
   "metadata": {},
   "outputs": [],
   "source": [
    "users.age_desc.replace(to_replace = age_dict, value = None, inplace = True)"
   ]
  },
  {
   "cell_type": "code",
   "execution_count": null,
   "metadata": {},
   "outputs": [],
   "source": [
    "users.age_desc.unique()"
   ]
  },
  {
   "cell_type": "code",
   "execution_count": null,
   "metadata": {},
   "outputs": [],
   "source": [
    "# Classify age groups\n",
    "age_dummies = pd.get_dummies(users['age_desc'], prefix = 'age')\n",
    "age_dummies.head()"
   ]
  },
  {
   "cell_type": "code",
   "execution_count": null,
   "metadata": {},
   "outputs": [],
   "source": [
    "#add age cols into main DF\n",
    "users = pd.concat([users, age_dummies],axis = 1).copy()"
   ]
  },
  {
   "cell_type": "markdown",
   "metadata": {},
   "source": [
    "We turn finally to the occupation data.  As we did with the age groups, we first reparse the names and then convert them into indicator variables."
   ]
  },
  {
   "cell_type": "code",
   "execution_count": null,
   "metadata": {},
   "outputs": [],
   "source": [
    "users['occ_desc'].value_counts()"
   ]
  },
  {
   "cell_type": "code",
   "execution_count": null,
   "metadata": {},
   "outputs": [],
   "source": [
    "users['occ_desc'].unique()"
   ]
  },
  {
   "cell_type": "code",
   "execution_count": null,
   "metadata": {},
   "outputs": [],
   "source": [
    "job_dict = {'K-12 student':'k12student', 'self-employed':'self_emp', \n",
    "       'executive/managerial':'exec', 'academic/educator':'teacher',\n",
    "        'technician/engineer':'engineer', 'other or not specified':'other',\n",
    "       'clerical/admin':'clerical', 'sales/marketing':'sales', 'college/grad student':'college_student',\n",
    "       'tradesman/craftsman':'trade','customer service':'cust_service',  'doctor/health care':'medical'}"
   ]
  },
  {
   "cell_type": "code",
   "execution_count": null,
   "metadata": {},
   "outputs": [],
   "source": [
    "users.occ_desc.replace(to_replace = job_dict, value = None, inplace = True)"
   ]
  },
  {
   "cell_type": "code",
   "execution_count": null,
   "metadata": {},
   "outputs": [],
   "source": [
    "users.occ_desc.unique()"
   ]
  },
  {
   "cell_type": "code",
   "execution_count": null,
   "metadata": {},
   "outputs": [],
   "source": [
    "# Classify job groups\n",
    "occ_dummies = pd.get_dummies(users['occ_desc'], prefix ='job')\n",
    "occ_dummies.head()"
   ]
  },
  {
   "cell_type": "code",
   "execution_count": null,
   "metadata": {},
   "outputs": [],
   "source": [
    "users = pd.concat([users, occ_dummies],axis = 1).copy()"
   ]
  },
  {
   "cell_type": "markdown",
   "metadata": {},
   "source": [
    "Now that all the features within the users dataset have been transformed, we make a final check of the file and get a sense of the distribution among the various features."
   ]
  },
  {
   "cell_type": "code",
   "execution_count": null,
   "metadata": {},
   "outputs": [],
   "source": [
    "users.mean()"
   ]
  },
  {
   "cell_type": "markdown",
   "metadata": {},
   "source": [
    "With the data preparation now complete, save the prepared files back into CSV."
   ]
  },
  {
   "cell_type": "code",
   "execution_count": null,
   "metadata": {},
   "outputs": [],
   "source": [
    "# Save into movies_prepared.csv\n",
    "movies.to_csv(\"movies_prepared.csv\", header=True)\n",
    "\n",
    "# Save into users_prepared.csv\n",
    "users.to_csv(\"users_prepared.csv\", header=True, index = False) \n",
    "\n",
    "# Save into ratings_prepared.csv\n",
    "ratings.to_csv(\"ratings_prepared.csv\", header=True, index = False)"
   ]
  },
  {
   "cell_type": "markdown",
   "metadata": {},
   "source": [
    "## TMDB 5000 Data\n",
    "\n",
    "Moving into the TMDB dataset, we again begin by loading the raw data."
   ]
  },
  {
   "cell_type": "code",
   "execution_count": null,
   "metadata": {},
   "outputs": [],
   "source": [
    "import pandas as pd\n",
    "import numpy as np \n",
    "import seaborn as sns\n",
    "import matplotlib.pyplot as plt\n",
    "from ast import literal_eval\n",
    "import datetime as dt\n",
    "\n",
    "import os\n",
    "os.chdir('C:\\\\Users\\\\cahib\\\\Downloads\\\\Data Mining_MSCA_31008\\\\Final Project\\\\movielens-master\\\\dat')\n",
    "os.getcwd()"
   ]
  },
  {
   "cell_type": "code",
   "execution_count": null,
   "metadata": {},
   "outputs": [],
   "source": [
    "tmdb_credits=pd.read_csv('tmdb_5000_credits.csv')\n",
    "tmdb_movies=pd.read_csv('tmdb_5000_movies.csv')"
   ]
  },
  {
   "cell_type": "markdown",
   "metadata": {},
   "source": [
    "With the data loaded, we review the raw format."
   ]
  },
  {
   "cell_type": "code",
   "execution_count": null,
   "metadata": {},
   "outputs": [],
   "source": [
    "tmdb_credits.head(3)"
   ]
  },
  {
   "cell_type": "code",
   "execution_count": null,
   "metadata": {},
   "outputs": [],
   "source": [
    "tmdb_movies.head(2)"
   ]
  },
  {
   "cell_type": "markdown",
   "metadata": {},
   "source": [
    "We merge these two DataFrames into a single movies dataset."
   ]
  },
  {
   "cell_type": "code",
   "execution_count": null,
   "metadata": {},
   "outputs": [],
   "source": [
    "tmdb_credits.columns = ['id','tittle','cast','crew']\n",
    "tmdb_movies= tmdb_movies.merge(tmdb_credits,on='id')\n",
    "\n",
    "#confirm merge\n",
    "tmdb_movies.head(2)"
   ]
  },
  {
   "cell_type": "markdown",
   "metadata": {},
   "source": [
    "We can drop many of these columns as either duplicates or as unnecessary for our analysis."
   ]
  },
  {
   "cell_type": "code",
   "execution_count": null,
   "metadata": {},
   "outputs": [],
   "source": [
    "tmdb_movies.drop('homepage', inplace = True, axis = 1)\n",
    "tmdb_movies.drop('tittle', inplace = True, axis = 1)\n",
    "tmdb_movies.drop('original_language', inplace = True, axis = 1)\n",
    "tmdb_movies.drop('spoken_languages', inplace = True, axis = 1)\n",
    "tmdb_movies.drop('original_title', inplace = True, axis = 1)\n",
    "tmdb_movies.drop('status', inplace = True, axis = 1)\n",
    "tmdb_movies.drop('production_countries', inplace = True, axis = 1)\n",
    "\n",
    "#confirm file status\n",
    "tmdb_movies.head(2)"
   ]
  },
  {
   "cell_type": "markdown",
   "metadata": {},
   "source": [
    "We can now begin preparing the data for machine processing.  As a glance at the underlying data and a review of the typing imputed by Pandas shows, many of the fields will need to be transformed."
   ]
  },
  {
   "cell_type": "code",
   "execution_count": null,
   "metadata": {},
   "outputs": [],
   "source": [
    "tmdb_movies.info()"
   ]
  },
  {
   "cell_type": "markdown",
   "metadata": {},
   "source": [
    "We begin by converting the release date and year values into DateTimes."
   ]
  },
  {
   "cell_type": "code",
   "execution_count": null,
   "metadata": {},
   "outputs": [],
   "source": [
    "#transform release date to DateTime format\n",
    "tmdb_movies['release_date'] = pd.to_datetime(tmdb_movies['release_date'],errors='coerce')\n",
    "\n",
    "#create a year column\n",
    "tmdb_movies['year'] = pd.to_datetime(tmdb_movies['release_date'],errors='coerce').dt.year\n",
    "\n",
    "#purge NA values\n",
    "tmdb_movies = tmdb_movies.dropna(subset=['year'])"
   ]
  },
  {
   "cell_type": "code",
   "execution_count": null,
   "metadata": {},
   "outputs": [],
   "source": [
    "#review year values\n",
    "tmdb_movies.year.head(3)"
   ]
  },
  {
   "cell_type": "code",
   "execution_count": null,
   "metadata": {},
   "outputs": [],
   "source": [
    "#review release_date values\n",
    "tmdb_movies.release_date.head(3)"
   ]
  }
 ],
 "metadata": {
  "kernelspec": {
   "display_name": "Python 3",
   "language": "python",
   "name": "python3"
  },
  "language_info": {
   "codemirror_mode": {
    "name": "ipython",
    "version": 3
   },
   "file_extension": ".py",
   "mimetype": "text/x-python",
   "name": "python",
   "nbconvert_exporter": "python",
   "pygments_lexer": "ipython3",
   "version": "3.7.3"
  }
 },
 "nbformat": 4,
 "nbformat_minor": 2
}
